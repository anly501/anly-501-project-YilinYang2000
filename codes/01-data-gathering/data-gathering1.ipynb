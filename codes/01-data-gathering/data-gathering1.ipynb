{
 "cells": [
  {
   "cell_type": "markdown",
   "metadata": {},
   "source": [
    "Twitter API\n",
    "\n",
    "Python: I used twitter API to scratch mutiple keywords:\"media\" \"internet influencers\" \"consumers\" \"data\" to gather comments from twiter about their opinion about the wemedia. I use these data to analyze the positive and negative opinion. I used for loop to search over 600 tweets in order to make comprehensive datasets. I will collect more in the future to scratch over 2000 tweets in order to make sure my results are accurate. \n"
   ]
  },
  {
   "cell_type": "code",
   "execution_count": 1,
   "metadata": {},
   "outputs": [],
   "source": [
    "import json \n",
    "\n",
    "# READ FILE\n",
    "f = open(\"/Users/yangyilin/Desktop/2022-fall-anly/501/lab/lab1.2/api-keys.json\")\n",
    "input=json.load(f); #print(input)\n",
    "\n",
    "# LOAD KEYS INTO API\n",
    "consumer_key=input[\"consumer_key\"]    \n",
    "consumer_secret=input[\"consumer_secret\"]    \n",
    "access_token=input[\"access_token\"]    \n",
    "access_token_secret=input[\"access_token_secret\"]    \n",
    "bearer_token=input[\"bearer_token\"]  "
   ]
  },
  {
   "cell_type": "code",
   "execution_count": 2,
   "metadata": {},
   "outputs": [],
   "source": [
    "import tweepy\n",
    "# Set up Connection\n",
    "auth = tweepy.OAuthHandler(consumer_key, consumer_secret)\n",
    "auth.set_access_token(access_token, access_token_secret)\n",
    "api = tweepy.API(auth)"
   ]
  },
  {
   "cell_type": "code",
   "execution_count": 3,
   "metadata": {},
   "outputs": [],
   "source": [
    "import requests \n",
    "def search_twitter(query, max_results, tweet_fields, bearer_token = bearer_token):\n",
    "    headers = {\"Authorization\": \"Bearer {}\".format(bearer_token)}\n",
    "\n",
    "    url = \"https://api.twitter.com/2/tweets/search/recent?query={}&{}\".format(query, tweet_fields)\n",
    "    \n",
    "    print(\"--------------\",url,\"--------------\")\n",
    "    response = requests.request(\"GET\", url, headers=headers)\n",
    "    #print(response.status_code)\n",
    "    # print(response.text)\n",
    "\n",
    "    if response.status_code != 200:\n",
    "        raise Exception(response.status_code, response.text)\n",
    "    return response.json()"
   ]
  },
  {
   "cell_type": "code",
   "execution_count": 4,
   "metadata": {},
   "outputs": [],
   "source": [
    "tweet_fields = \"tweet.fields=text,author_id,created_at,lang\""
   ]
  },
  {
   "cell_type": "code",
   "execution_count": 5,
   "metadata": {},
   "outputs": [
    {
     "name": "stdout",
     "output_type": "stream",
     "text": [
      "-------------- https://api.twitter.com/2/tweets/search/recent?query=media&tweet.fields=text,author_id,created_at,lang --------------\n",
      "-------------- https://api.twitter.com/2/tweets/search/recent?query=media&tweet.fields=text,author_id,created_at,lang --------------\n",
      "-------------- https://api.twitter.com/2/tweets/search/recent?query=media&tweet.fields=text,author_id,created_at,lang --------------\n",
      "-------------- https://api.twitter.com/2/tweets/search/recent?query=media&tweet.fields=text,author_id,created_at,lang --------------\n",
      "-------------- https://api.twitter.com/2/tweets/search/recent?query=media&tweet.fields=text,author_id,created_at,lang --------------\n",
      "-------------- https://api.twitter.com/2/tweets/search/recent?query=media&tweet.fields=text,author_id,created_at,lang --------------\n",
      "-------------- https://api.twitter.com/2/tweets/search/recent?query=internet influencer&tweet.fields=text,author_id,created_at,lang --------------\n",
      "-------------- https://api.twitter.com/2/tweets/search/recent?query=internet influencer&tweet.fields=text,author_id,created_at,lang --------------\n",
      "-------------- https://api.twitter.com/2/tweets/search/recent?query=internet influencer&tweet.fields=text,author_id,created_at,lang --------------\n",
      "-------------- https://api.twitter.com/2/tweets/search/recent?query=internet influencer&tweet.fields=text,author_id,created_at,lang --------------\n",
      "-------------- https://api.twitter.com/2/tweets/search/recent?query=internet influencer&tweet.fields=text,author_id,created_at,lang --------------\n",
      "-------------- https://api.twitter.com/2/tweets/search/recent?query=internet influencer&tweet.fields=text,author_id,created_at,lang --------------\n",
      "-------------- https://api.twitter.com/2/tweets/search/recent?query=data&tweet.fields=text,author_id,created_at,lang --------------\n",
      "-------------- https://api.twitter.com/2/tweets/search/recent?query=data&tweet.fields=text,author_id,created_at,lang --------------\n",
      "-------------- https://api.twitter.com/2/tweets/search/recent?query=data&tweet.fields=text,author_id,created_at,lang --------------\n",
      "-------------- https://api.twitter.com/2/tweets/search/recent?query=data&tweet.fields=text,author_id,created_at,lang --------------\n",
      "-------------- https://api.twitter.com/2/tweets/search/recent?query=data&tweet.fields=text,author_id,created_at,lang --------------\n",
      "-------------- https://api.twitter.com/2/tweets/search/recent?query=data&tweet.fields=text,author_id,created_at,lang --------------\n",
      "-------------- https://api.twitter.com/2/tweets/search/recent?query=consumer privacy&tweet.fields=text,author_id,created_at,lang --------------\n",
      "-------------- https://api.twitter.com/2/tweets/search/recent?query=consumer privacy&tweet.fields=text,author_id,created_at,lang --------------\n",
      "-------------- https://api.twitter.com/2/tweets/search/recent?query=consumer privacy&tweet.fields=text,author_id,created_at,lang --------------\n",
      "-------------- https://api.twitter.com/2/tweets/search/recent?query=consumer privacy&tweet.fields=text,author_id,created_at,lang --------------\n",
      "-------------- https://api.twitter.com/2/tweets/search/recent?query=consumer privacy&tweet.fields=text,author_id,created_at,lang --------------\n",
      "-------------- https://api.twitter.com/2/tweets/search/recent?query=consumer privacy&tweet.fields=text,author_id,created_at,lang --------------\n"
     ]
    }
   ],
   "source": [
    "data = \"/Users/yangyilin/Desktop/2022-fall-anly/501/project\"\n",
    "search_tweets = ['media','internet influencer','data','consumer privacy']\n",
    "for idx,val in enumerate(search_tweets):\n",
    "    tweets_jsondump = []\n",
    "    json_response1 = search_twitter(query = str(val), max_results = 100, tweet_fields = tweet_fields, bearer_token=bearer_token)\n",
    "    json_response2 = search_twitter(query = str(val), max_results = 100, tweet_fields = tweet_fields, bearer_token=bearer_token)\n",
    "    json_response3 = search_twitter(query = str(val), max_results = 100, tweet_fields = tweet_fields, bearer_token=bearer_token)\n",
    "    json_response4 = search_twitter(query = str(val), max_results = 100, tweet_fields = tweet_fields, bearer_token=bearer_token)\n",
    "    json_response5 = search_twitter(query = str(val), max_results = 100, tweet_fields = tweet_fields, bearer_token=bearer_token)\n",
    "    json_response6 = search_twitter(query = str(val), max_results = 100, tweet_fields = tweet_fields, bearer_token=bearer_token)\n",
    "    for i in json_response1['data']:\n",
    "        tweets_jsondump.append(i)\n",
    "    for i in json_response2['data']:\n",
    "        tweets_jsondump.append(i)\n",
    "    for i in json_response3['data']:\n",
    "        tweets_jsondump.append(i)\n",
    "    for i in json_response4['data']:\n",
    "        tweets_jsondump.append(i)\n",
    "    for i in json_response5['data']:\n",
    "        tweets_jsondump.append(i)\n",
    "    for i in json_response6['data']:\n",
    "        tweets_jsondump.append(i)\n",
    "    with open(data+str(val)+'.json','w') as json_file:\n",
    "        json.dump(tweets_jsondump,json_file)\n",
    "        json_file.close()"
   ]
  }
 ],
 "metadata": {
  "kernelspec": {
   "display_name": "Python 3.10.4 ('ANLY501')",
   "language": "python",
   "name": "python3"
  },
  "language_info": {
   "codemirror_mode": {
    "name": "ipython",
    "version": 3
   },
   "file_extension": ".py",
   "mimetype": "text/x-python",
   "name": "python",
   "nbconvert_exporter": "python",
   "pygments_lexer": "ipython3",
   "version": "3.10.4"
  },
  "orig_nbformat": 4,
  "vscode": {
   "interpreter": {
    "hash": "35b5a992b9213609476f3b9dedb9c34ba69d78bca4613c4854b5108b11a72ed9"
   }
  }
 },
 "nbformat": 4,
 "nbformat_minor": 2
}
