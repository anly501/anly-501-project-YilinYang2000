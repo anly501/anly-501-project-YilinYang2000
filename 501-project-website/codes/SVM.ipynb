{
 "cells": [
  {
   "cell_type": "raw",
   "metadata": {},
   "source": [
    "---\n",
    "title: \"SVM for text data\"\n",
    "pdf-engine: lualatex\n",
    "format:\n",
    "  html:\n",
    "    theme : Minty\n",
    "    toc: true\n",
    "    code-tools: true\n",
    "    code-fold: true\n",
    "    code-summary: \"Code\"\n",
    "    toc-title: Contents\n",
    "execute:\n",
    "    warning: false\n",
    "---"
   ]
  },
  {
   "cell_type": "markdown",
   "metadata": {},
   "source": [
    "## Introduction"
   ]
  },
  {
   "cell_type": "markdown",
   "metadata": {},
   "source": [
    "1. Dataset Introduction\n",
    "\n",
    "    This dataset contains text I collected from twitter api. The text mainly talks about the users' reviews about consumers privacy by using media. \n",
    "    Then I use sentiment analysis to determine the users' attitudes (Neutral, Positive, Negaitve) and assign a attitude socres about their texts. \n",
    "    There are 1299 rows and 4 columns in this dataset. \n",
    "\n",
    "        Unnamed: 0 : The number id of each content\n",
    "\n",
    "        text: Each review from twitter users\n",
    "\n",
    "        result: Sentiment classification of each text(Positive, Neutral, Negative)\n",
    "\n",
    "        scores: Attitude scores. How likely the attitude to be Neutral, Postive, Negative\n",
    "\n",
    "2. Methods I plan to use\n",
    "\n",
    "    Support Vector Machine\n",
    "\n",
    "    Support Vector Machine (SVM) is a kind of generalized linear classifier ​​that performs binary classification on data according to supervised learning, and its decision boundary is the maximum margin for solving the learning samples Hyperplane (maximum-margin hyperplane).\n",
    "\n",
    "    SVM uses the hinge loss function (hinge loss) to calculate the empirical risk and adds a regularization term to the solution system to optimize the structural risk (structural risk). It is a sparse and robust classifier. SVM can perform nonlinear classification through the kernel method, which is one of the common kernel learning methods\n",
    "\n",
    "    Linearly Separable SVM\n",
    "        When the training data is linearly separable, a linear classifier can be learned by maximizing the hard margin (hard margin, what is hard and soft margin will be discussed below), that is, hard margin SVM, such as H3 in the above figure.\n",
    "    Linear SVM\n",
    "        When the training data is not linearly separable but can be approximately linearly separable, a linear classifier can also be learned by maximizing the soft margin, that is, soft margin SVM.\n",
    "    Nonlinear SVM\n",
    "        When the training data is linearly inseparable, a non-linear SVM can be learned by using the kernel trick and soft margin maximization.\n",
    "    \n",
    "3. Steps \n",
    "\n",
    "Import datasets\n",
    "\n",
    "        Drop unnecessary columns from the dataset(From this dataset, I mainly use text and result columns)\n",
    "\n",
    "Basic data exploration\n",
    "\n",
    "    Make some necessary EDA plots to get some first insight of the dataset. \n",
    "\n",
    "    I will use y = \"result\" (output_score) and \"text\" as feature. \n",
    "\n",
    "    Then I will reprocess the column text (Important!)\n",
    "\n",
    "            1. Drop NA\n",
    "            2. Change all letters to lower case\n",
    "            3. Broke the sentence into words\n",
    "            4. Remove stopwords\n",
    "\n",
    "Split Dataset\n",
    "\n",
    "        I will split dataset into 80% training data and 20% test data to get better prediction for SVM\n",
    "\n",
    "Training the model and Testing the results\n",
    "\n",
    "        Use x_train,y_train to build a model of SVM\n",
    "\n",
    "        Evaluate the performance of the SVM model by using the test data. \n",
    "            \n",
    "            Train different kernel in order to get the best performance of model\n",
    "\n",
    "            Generate a confusion matrix plot for SVM model to evaluate the performance\n",
    "    \n",
    "Conclusion\n",
    "\n",
    "        Gather the result of the SVM performance"
   ]
  },
  {
   "cell_type": "markdown",
   "metadata": {},
   "source": [
    "#### Step 1 Import Dataset"
   ]
  },
  {
   "cell_type": "markdown",
   "metadata": {},
   "source": [
    "##### Read dataset in pd.read_csv and display first several rows."
   ]
  },
  {
   "cell_type": "code",
   "execution_count": 1,
   "metadata": {},
   "outputs": [
    {
     "data": {
      "text/html": [
       "<div>\n",
       "<style scoped>\n",
       "    .dataframe tbody tr th:only-of-type {\n",
       "        vertical-align: middle;\n",
       "    }\n",
       "\n",
       "    .dataframe tbody tr th {\n",
       "        vertical-align: top;\n",
       "    }\n",
       "\n",
       "    .dataframe thead th {\n",
       "        text-align: right;\n",
       "    }\n",
       "</style>\n",
       "<table border=\"1\" class=\"dataframe\">\n",
       "  <thead>\n",
       "    <tr style=\"text-align: right;\">\n",
       "      <th></th>\n",
       "      <th>Unnamed: 0</th>\n",
       "      <th>text</th>\n",
       "      <th>result</th>\n",
       "      <th>scores</th>\n",
       "    </tr>\n",
       "  </thead>\n",
       "  <tbody>\n",
       "    <tr>\n",
       "      <th>0</th>\n",
       "      <td>0</td>\n",
       "      <td>A more memorable connection is one that respec...</td>\n",
       "      <td>Positive</td>\n",
       "      <td>15.4</td>\n",
       "    </tr>\n",
       "    <tr>\n",
       "      <th>1</th>\n",
       "      <td>1</td>\n",
       "      <td>A more memorable connection is one that respec...</td>\n",
       "      <td>Positive</td>\n",
       "      <td>15.4</td>\n",
       "    </tr>\n",
       "    <tr>\n",
       "      <th>2</th>\n",
       "      <td>2</td>\n",
       "      <td>RT @OkeyMor57: @jay_scherrer @muskQu0tes @elon...</td>\n",
       "      <td>Negative</td>\n",
       "      <td>24.2</td>\n",
       "    </tr>\n",
       "    <tr>\n",
       "      <th>3</th>\n",
       "      <td>3</td>\n",
       "      <td>@jay_scherrer @muskQu0tes @elonmusk Elon Musk ...</td>\n",
       "      <td>Negative</td>\n",
       "      <td>14.0</td>\n",
       "    </tr>\n",
       "    <tr>\n",
       "      <th>4</th>\n",
       "      <td>4</td>\n",
       "      <td>@DanKnightMMA Dear Dan - you seem like an enga...</td>\n",
       "      <td>Positive</td>\n",
       "      <td>26.0</td>\n",
       "    </tr>\n",
       "  </tbody>\n",
       "</table>\n",
       "</div>"
      ],
      "text/plain": [
       "   Unnamed: 0                                               text    result  \\\n",
       "0           0  A more memorable connection is one that respec...  Positive   \n",
       "1           1  A more memorable connection is one that respec...  Positive   \n",
       "2           2  RT @OkeyMor57: @jay_scherrer @muskQu0tes @elon...  Negative   \n",
       "3           3  @jay_scherrer @muskQu0tes @elonmusk Elon Musk ...  Negative   \n",
       "4           4  @DanKnightMMA Dear Dan - you seem like an enga...  Positive   \n",
       "\n",
       "   scores  \n",
       "0    15.4  \n",
       "1    15.4  \n",
       "2    24.2  \n",
       "3    14.0  \n",
       "4    26.0  "
      ]
     },
     "execution_count": 1,
     "metadata": {},
     "output_type": "execute_result"
    }
   ],
   "source": [
    "# Read dataset in pd.read_csv and display first several rows.\n",
    "import pandas as pd\n",
    "df = pd.read_csv(\"../data/01-modified-data/pytweetresult.csv\")\n",
    "df.head()"
   ]
  },
  {
   "cell_type": "markdown",
   "metadata": {},
   "source": [
    "##### Print shape and columns of the dataset and describe the dataset"
   ]
  },
  {
   "cell_type": "code",
   "execution_count": 2,
   "metadata": {},
   "outputs": [
    {
     "name": "stdout",
     "output_type": "stream",
     "text": [
      "(1300, 4)\n",
      "Index(['Unnamed: 0', 'text', 'result', 'scores'], dtype='object')\n",
      "<bound method NDFrame.describe of       Unnamed: 0                                               text    result  \\\n",
      "0              0  A more memorable connection is one that respec...  Positive   \n",
      "1              1  A more memorable connection is one that respec...  Positive   \n",
      "2              2  RT @OkeyMor57: @jay_scherrer @muskQu0tes @elon...  Negative   \n",
      "3              3  @jay_scherrer @muskQu0tes @elonmusk Elon Musk ...  Negative   \n",
      "4              4  @DanKnightMMA Dear Dan - you seem like an enga...  Positive   \n",
      "...          ...                                                ...       ...   \n",
      "1295        1295  When corporations write the rules, they only p...  Positive   \n",
      "1296        1296  The American Data Privacy Protection Act (ADPP...  Positive   \n",
      "1297        1297  Consumer privacy predictions—how marketers wil...  Negative   \n",
      "1298        1298  To balance the advertisement benefits for busi...  Positive   \n",
      "1299        1299  Consumer privacy predictions—how marketers wil...  Negative   \n",
      "\n",
      "      scores  \n",
      "0       15.4  \n",
      "1       15.4  \n",
      "2       24.2  \n",
      "3       14.0  \n",
      "4       26.0  \n",
      "...      ...  \n",
      "1295    11.6  \n",
      "1296     9.5  \n",
      "1297    15.1  \n",
      "1298     6.9  \n",
      "1299    13.8  \n",
      "\n",
      "[1300 rows x 4 columns]>\n"
     ]
    }
   ],
   "source": [
    "# Print shape and columns of the dataset and describe the dataset\n",
    "print(df.shape)\n",
    "print(df.columns)\n",
    "print(df.describe)"
   ]
  },
  {
   "cell_type": "markdown",
   "metadata": {},
   "source": [
    "#### Step 2: Basic data exploration"
   ]
  },
  {
   "cell_type": "markdown",
   "metadata": {},
   "source": [
    "##### Insert code to explore the load balance and count the times infl_score = 0 and infl_score = 1"
   ]
  },
  {
   "cell_type": "code",
   "execution_count": 3,
   "metadata": {},
   "outputs": [
    {
     "name": "stdout",
     "output_type": "stream",
     "text": [
      "Number of points with result = Negative: 416 0.32\n",
      "Number of points with result = Neutral: 286 0.22\n",
      "Number of points with result = Neutral: 598 0.46\n"
     ]
    }
   ],
   "source": [
    "#Insert code to explore the load balance and count the times infl_score = 0 and infl_score = 1\n",
    "print(\"Number of points with result = Negative:\",sum(df['result']=='Negative'),sum(df['result']=='Negative')/(sum(df['result']=='Negative')+sum(df['result']=='Neutral')+sum(df['result']=='Positive')))\n",
    "print(\"Number of points with result = Neutral:\",sum(df['result']=='Neutral'),sum(df['result']=='Neutral')/(sum(df['result']=='Negative')+sum(df['result']=='Neutral')+sum(df['result']=='Positive')))\n",
    "print(\"Number of points with result = Neutral:\",sum(df['result']=='Positive'),sum(df['result']=='Positive')/(sum(df['result']=='Negative')+sum(df['result']=='Neutral')+sum(df['result']=='Positive')))"
   ]
  },
  {
   "cell_type": "markdown",
   "metadata": {},
   "source": [
    "##### Make Visulization plot of EDA"
   ]
  },
  {
   "cell_type": "code",
   "execution_count": 4,
   "metadata": {},
   "outputs": [
    {
     "data": {
      "text/plain": [
       "<AxesSubplot:>"
      ]
     },
     "execution_count": 4,
     "metadata": {},
     "output_type": "execute_result"
    },
    {
     "data": {
      "image/png": "[encoded data removed]",
      "text/plain": [
       "<Figure size 640x480 with 1 Axes>"
      ]
     },
     "metadata": {},
     "output_type": "display_data"
    }
   ],
   "source": [
    "df['result'].value_counts().plot(kind=\"bar\")"
   ]
  },
  {
   "cell_type": "markdown",
   "metadata": {},
   "source": [
    "As we can see in the plot, Neutral is above 50% in the result of this dataset, the second more value is Postive, then is Negative"
   ]
  },
  {
   "cell_type": "markdown",
   "metadata": {},
   "source": [
    "##### Drop unnecessary columns"
   ]
  },
  {
   "cell_type": "code",
   "execution_count": 5,
   "metadata": {},
   "outputs": [],
   "source": [
    "df = df.drop(['Unnamed: 0','scores'],axis=1) #Drop unnecessary columns"
   ]
  },
  {
   "cell_type": "code",
   "execution_count": 6,
   "metadata": {},
   "outputs": [],
   "source": [
    "# Import required packages\n",
    "import numpy as np\n",
    "from nltk.tokenize import word_tokenize\n",
    "from nltk import pos_tag\n",
    "from nltk.corpus import stopwords\n",
    "from nltk.stem import WordNetLemmatizer\n",
    "from sklearn.preprocessing import LabelEncoder\n",
    "from collections import defaultdict\n",
    "from nltk.corpus import wordnet as wn\n",
    "from sklearn.feature_extraction.text import TfidfVectorizer\n",
    "from sklearn import model_selection, naive_bayes, svm\n",
    "from sklearn.metrics import accuracy_score\n",
    "import matplotlib.pyplot as plt\n",
    "import seaborn as sns\n",
    "from sklearn.metrics import confusion_matrix, ConfusionMatrixDisplay\n",
    "from sklearn.metrics import classification_report, confusion_matrix"
   ]
  },
  {
   "cell_type": "markdown",
   "metadata": {},
   "source": [
    "##### Data preprocessing"
   ]
  },
  {
   "cell_type": "code",
   "execution_count": 7,
   "metadata": {},
   "outputs": [
    {
     "data": {
      "text/html": [
       "<div>\n",
       "<style scoped>\n",
       "    .dataframe tbody tr th:only-of-type {\n",
       "        vertical-align: middle;\n",
       "    }\n",
       "\n",
       "    .dataframe tbody tr th {\n",
       "        vertical-align: top;\n",
       "    }\n",
       "\n",
       "    .dataframe thead th {\n",
       "        text-align: right;\n",
       "    }\n",
       "</style>\n",
       "<table border=\"1\" class=\"dataframe\">\n",
       "  <thead>\n",
       "    <tr style=\"text-align: right;\">\n",
       "      <th></th>\n",
       "      <th>text</th>\n",
       "      <th>result</th>\n",
       "      <th>text_final</th>\n",
       "    </tr>\n",
       "  </thead>\n",
       "  <tbody>\n",
       "    <tr>\n",
       "      <th>0</th>\n",
       "      <td>[a, more, memorable, connection, is, one, that...</td>\n",
       "      <td>Positive</td>\n",
       "      <td>['memorable', 'connection', 'one', 'respect', ...</td>\n",
       "    </tr>\n",
       "    <tr>\n",
       "      <th>1</th>\n",
       "      <td>[a, more, memorable, connection, is, one, that...</td>\n",
       "      <td>Positive</td>\n",
       "      <td>['memorable', 'connection', 'one', 'respect', ...</td>\n",
       "    </tr>\n",
       "    <tr>\n",
       "      <th>2</th>\n",
       "      <td>[rt, @, okeymor57, :, @, jay_scherrer, @, musk...</td>\n",
       "      <td>Negative</td>\n",
       "      <td>['rt', 'elonmusk', 'elon', 'musk', 'challenge'...</td>\n",
       "    </tr>\n",
       "    <tr>\n",
       "      <th>3</th>\n",
       "      <td>[@, jay_scherrer, @, muskqu0tes, @, elonmusk, ...</td>\n",
       "      <td>Negative</td>\n",
       "      <td>['elonmusk', 'elon', 'musk', 'challenge', 'don...</td>\n",
       "    </tr>\n",
       "    <tr>\n",
       "      <th>4</th>\n",
       "      <td>[@, danknightmma, dear, dan, -, you, seem, lik...</td>\n",
       "      <td>Positive</td>\n",
       "      <td>['danknightmma', 'dear', 'dan', 'seem', 'like'...</td>\n",
       "    </tr>\n",
       "  </tbody>\n",
       "</table>\n",
       "</div>"
      ],
      "text/plain": [
       "                                                text    result  \\\n",
       "0  [a, more, memorable, connection, is, one, that...  Positive   \n",
       "1  [a, more, memorable, connection, is, one, that...  Positive   \n",
       "2  [rt, @, okeymor57, :, @, jay_scherrer, @, musk...  Negative   \n",
       "3  [@, jay_scherrer, @, muskqu0tes, @, elonmusk, ...  Negative   \n",
       "4  [@, danknightmma, dear, dan, -, you, seem, lik...  Positive   \n",
       "\n",
       "                                          text_final  \n",
       "0  ['memorable', 'connection', 'one', 'respect', ...  \n",
       "1  ['memorable', 'connection', 'one', 'respect', ...  \n",
       "2  ['rt', 'elonmusk', 'elon', 'musk', 'challenge'...  \n",
       "3  ['elonmusk', 'elon', 'musk', 'challenge', 'don...  \n",
       "4  ['danknightmma', 'dear', 'dan', 'seem', 'like'...  "
      ]
     },
     "execution_count": 7,
     "metadata": {},
     "output_type": "execute_result"
    }
   ],
   "source": [
    "# insert code to remove blank rows if any.\n",
    "df['text'].dropna()\n",
    "# Change all the text to lower case.\n",
    "df['text'] = [entry.lower() for entry in df['text']]\n",
    "# Tokenization In this each entry in the df will be broken into set of words\n",
    "df['text'] = [word_tokenize(entry) for entry in df['text']]\n",
    "# Remove Stop words, Non-Numeric and perfom Word Stemming/Lemmenting.\n",
    "tag_map = defaultdict(lambda : wn.NOUN)\n",
    "tag_map['J'] = wn.ADJ\n",
    "tag_map['V'] = wn.VERB\n",
    "tag_map['R'] = wn.ADV\n",
    "for index,entry in enumerate(df['text']):\n",
    "    # Declaring Empty List to store the words that follow the rules for this step\n",
    "    Final_words = []\n",
    "    # Initializing WordNetLemmatizer()\n",
    "    word_Lemmatized = WordNetLemmatizer()\n",
    "    # pos_tag function below will provide the 'tag' i.e if the word is Noun(N) or Verb(V) or something else.\n",
    "    for word, tag in pos_tag(entry):\n",
    "        # Below condition is to check for Stop words and consider only alphabets\n",
    "        if word not in stopwords.words('english') and word.isalpha():\n",
    "            word_Final = word_Lemmatized.lemmatize(word,tag_map[tag[0]])\n",
    "            Final_words.append(word_Final)\n",
    "    # The final processed set of words for each iteration will be stored in 'text_final'\n",
    "    df.loc[index,'text_final'] = str(Final_words)\n",
    "df.head()"
   ]
  },
  {
   "cell_type": "markdown",
   "metadata": {},
   "source": [
    "##### Drop initial text column"
   ]
  },
  {
   "cell_type": "code",
   "execution_count": 8,
   "metadata": {},
   "outputs": [
    {
     "data": {
      "text/html": [
       "<div>\n",
       "<style scoped>\n",
       "    .dataframe tbody tr th:only-of-type {\n",
       "        vertical-align: middle;\n",
       "    }\n",
       "\n",
       "    .dataframe tbody tr th {\n",
       "        vertical-align: top;\n",
       "    }\n",
       "\n",
       "    .dataframe thead th {\n",
       "        text-align: right;\n",
       "    }\n",
       "</style>\n",
       "<table border=\"1\" class=\"dataframe\">\n",
       "  <thead>\n",
       "    <tr style=\"text-align: right;\">\n",
       "      <th></th>\n",
       "      <th>result</th>\n",
       "      <th>text_final</th>\n",
       "    </tr>\n",
       "  </thead>\n",
       "  <tbody>\n",
       "    <tr>\n",
       "      <th>0</th>\n",
       "      <td>Positive</td>\n",
       "      <td>['memorable', 'connection', 'one', 'respect', ...</td>\n",
       "    </tr>\n",
       "    <tr>\n",
       "      <th>1</th>\n",
       "      <td>Positive</td>\n",
       "      <td>['memorable', 'connection', 'one', 'respect', ...</td>\n",
       "    </tr>\n",
       "    <tr>\n",
       "      <th>2</th>\n",
       "      <td>Negative</td>\n",
       "      <td>['rt', 'elonmusk', 'elon', 'musk', 'challenge'...</td>\n",
       "    </tr>\n",
       "    <tr>\n",
       "      <th>3</th>\n",
       "      <td>Negative</td>\n",
       "      <td>['elonmusk', 'elon', 'musk', 'challenge', 'don...</td>\n",
       "    </tr>\n",
       "    <tr>\n",
       "      <th>4</th>\n",
       "      <td>Positive</td>\n",
       "      <td>['danknightmma', 'dear', 'dan', 'seem', 'like'...</td>\n",
       "    </tr>\n",
       "  </tbody>\n",
       "</table>\n",
       "</div>"
      ],
      "text/plain": [
       "     result                                         text_final\n",
       "0  Positive  ['memorable', 'connection', 'one', 'respect', ...\n",
       "1  Positive  ['memorable', 'connection', 'one', 'respect', ...\n",
       "2  Negative  ['rt', 'elonmusk', 'elon', 'musk', 'challenge'...\n",
       "3  Negative  ['elonmusk', 'elon', 'musk', 'challenge', 'don...\n",
       "4  Positive  ['danknightmma', 'dear', 'dan', 'seem', 'like'..."
      ]
     },
     "execution_count": 8,
     "metadata": {},
     "output_type": "execute_result"
    }
   ],
   "source": [
    "df = df.drop(['text'],axis=1) # Drop Initial text column\n",
    "df.head()"
   ]
  },
  {
   "cell_type": "markdown",
   "metadata": {},
   "source": [
    "#### Step 3 Split dataset"
   ]
  },
  {
   "cell_type": "code",
   "execution_count": 9,
   "metadata": {},
   "outputs": [
    {
     "name": "stdout",
     "output_type": "stream",
     "text": [
      "<class 'pandas.core.series.Series'> (260,)\n",
      "<class 'pandas.core.series.Series'> (260,)\n",
      "<class 'pandas.core.series.Series'> (1040,)\n",
      "<class 'pandas.core.series.Series'> (1040,)\n"
     ]
    }
   ],
   "source": [
    "# Insert code to partition datasets into training and testing datasets and print types and shapes of these datasets\n",
    "from sklearn.model_selection import train_test_split\n",
    "x_train,x_test,y_train,y_test=train_test_split(df['text_final'],df['result'],test_size=0.8)\n",
    "print(type(x_train),x_train.shape)\n",
    "print(type(y_train),y_train.shape)\n",
    "print(type(x_test),x_test.shape)\n",
    "print(type(y_test),y_test.shape)"
   ]
  },
  {
   "cell_type": "markdown",
   "metadata": {},
   "source": [
    "Insert code to encode the column infl_score with value between 0 and 1 and 2. 0 represents Negative, 1 represents Neutral, 2 represnets Positive"
   ]
  },
  {
   "cell_type": "code",
   "execution_count": 10,
   "metadata": {},
   "outputs": [],
   "source": [
    "# Insert code to encode the column infl_score with value between 0 and 1 and 2. 0 represents Negative, 1 represents Neutral, 2 represnets Positive\n",
    "Encoder = LabelEncoder()\n",
    "y_train = Encoder.fit_transform(y_train)\n",
    "y_test = Encoder.fit_transform(y_test)"
   ]
  },
  {
   "cell_type": "markdown",
   "metadata": {},
   "source": [
    "Word Vectorization\n",
    "\n",
    "One sentence summarizes the use of word vectors: it provides a mathematical method to convert symbolic information such as natural language into digital information in the form of vectors. This transforms natural language problems into machine learning problems.\n",
    "\n",
    "The most commonly used word vector models are nothing more than one-hot Representation model and distributed representation model.\n",
    "\n",
    "One-hot Representation\n",
    "One-hot Representation uses a very long vector to represent a word. The length of the vector is the size N of the dictionary. Each vector has only one dimension which is 1, indicating the position of the word in the dictionary, and all other dimensions are 0.\n",
    "\n",
    "Example:\n",
    "\n",
    "\"Mic\" is expressed as [0 0 0 1 0 0 0 0 0 0 0 0 0 0 0 0 …]\n",
    "\"Mike\" is expressed as [0 0 0 0 0 0 0 0 1 0 0 0 0 0 0 0 …]\n",
    "\n",
    "If this One-hot Representation is stored in a sparse manner, it will be very concise, that is, assign a digital ID to each word. But this representation has two disadvantages:\n",
    "\n",
    "(1) Suffering from the curse of dimensionality, the dimension of each word is the length of the corpus dictionary.\n",
    "(2) Word encoding is often random, resulting in the inability to describe the similarity between words\n",
    "\n",
    "Distributed representation\n",
    "Distributed representation was first proposed by Hinton in 1986. It relies on the idea that the semantics of words is determined by contextual information, that is, words appearing in the same context have similar semantics.\n",
    "\n",
    "Distributed representation\n",
    "Distributed representation was first proposed by Hinton in 1986. It relies on the idea that the semantics of words is determined by contextual information, that is, words appearing in the same context have similar semantics.\n",
    "\n",
    "Distributed Representation vs. one-hot representation\n",
    "\n",
    "Formally, the one-hot representation word vector is a sparse word vector whose length is the length of the dictionary, while the Distributed Representation is a fixed-length dense word vector. Generally it looks like this: [0.792, −0.177, −0.107, 0.109, −0.542, …]\n",
    "Functionally, the biggest contribution of Distributed representation is to make related or similar words closer in distance.\n"
   ]
  },
  {
   "cell_type": "code",
   "execution_count": 11,
   "metadata": {},
   "outputs": [
    {
     "name": "stdout",
     "output_type": "stream",
     "text": [
      "  (0, 431)\t0.39343054767211405\n",
      "  (0, 422)\t0.39343054767211405\n",
      "  (0, 421)\t0.21270247409445098\n",
      "  (0, 379)\t0.10777508549892469\n",
      "  (0, 324)\t0.41978781772324697\n",
      "  (0, 289)\t0.39343054767211405\n",
      "  (0, 241)\t0.39343054767211405\n",
      "  (0, 240)\t0.13991072862375892\n",
      "  (0, 230)\t0.34177701917836245\n",
      "  (0, 108)\t0.1066932535925145\n",
      "  (1, 421)\t0.17578173050759396\n",
      "  (1, 379)\t0.08906756310785721\n",
      "  (1, 339)\t0.34692134804521224\n",
      "  (1, 246)\t0.3773440588795487\n",
      "  (1, 206)\t0.3773440588795487\n",
      "  (1, 184)\t0.42818082446664624\n",
      "  (1, 129)\t0.19797855636694156\n",
      "  (1, 108)\t0.08817351481134954\n",
      "  (1, 93)\t0.3773440588795487\n",
      "  (1, 8)\t0.42818082446664624\n",
      "  (2, 379)\t0.24765096259824637\n",
      "  (2, 301)\t0.622577221818474\n",
      "  (2, 240)\t0.3214938449001891\n",
      "  (2, 108)\t0.24516507532892332\n",
      "  (2, 18)\t0.622577221818474\n",
      "  :\t:\n",
      "  (256, 156)\t0.2365071214185549\n",
      "  (256, 134)\t0.2365071214185549\n",
      "  (256, 108)\t0.09740587612424956\n",
      "  (256, 27)\t0.14537183151680322\n",
      "  (256, 11)\t0.2365071214185549\n",
      "  (256, 3)\t0.14090351047368133\n",
      "  (257, 379)\t0.21636746718506106\n",
      "  (257, 301)\t0.5439326994682515\n",
      "  (257, 240)\t0.5617648985236235\n",
      "  (257, 108)\t0.21419559946232755\n",
      "  (257, 18)\t0.5439326994682515\n",
      "  (258, 379)\t0.7106645633449062\n",
      "  (258, 108)\t0.7035310074231227\n",
      "  (259, 529)\t0.34038255559099734\n",
      "  (259, 476)\t0.26542161561958894\n",
      "  (259, 461)\t0.34038255559099734\n",
      "  (259, 421)\t0.15856360594107566\n",
      "  (259, 401)\t0.3129398019074078\n",
      "  (259, 379)\t0.08034324123436727\n",
      "  (259, 252)\t0.3862397720525404\n",
      "  (259, 206)\t0.34038255559099734\n",
      "  (259, 129)\t0.17858621431192803\n",
      "  (259, 108)\t0.07953676651500724\n",
      "  (259, 66)\t0.3862397720525404\n",
      "  (259, 47)\t0.34038255559099734\n"
     ]
    }
   ],
   "source": [
    "Tfidf_vect = TfidfVectorizer(max_features=5000)\n",
    "Tfidf_vect.fit(df['text_final'])\n",
    "Train_X_Tfidf = Tfidf_vect.transform(x_train)\n",
    "Test_X_Tfidf = Tfidf_vect.transform(x_test)\n",
    "print(Train_X_Tfidf)"
   ]
  },
  {
   "cell_type": "markdown",
   "metadata": {},
   "source": [
    "Now the column text is ready to be fed into SVM algortithms."
   ]
  },
  {
   "cell_type": "markdown",
   "metadata": {},
   "source": [
    "#### Step 4 Training and Predicting the model"
   ]
  },
  {
   "cell_type": "code",
   "execution_count": 12,
   "metadata": {},
   "outputs": [],
   "source": [
    "# Classifier - Algorithm - SVM\n",
    "# fit the training dataset on the classifier\n",
    "SVC = svm.SVC()\n",
    "model = SVC.fit(Train_X_Tfidf,y_train)\n",
    "# predict the labels on validation dataset\n",
    "yp_train = model.predict(Train_X_Tfidf)\n",
    "yp_test = model.predict(Test_X_Tfidf)"
   ]
  },
  {
   "cell_type": "code",
   "execution_count": 13,
   "metadata": {},
   "outputs": [
    {
     "name": "stdout",
     "output_type": "stream",
     "text": [
      "confusion matrix of train data:\n",
      "[[ 81   0   0]\n",
      " [  0  49   0]\n",
      " [  0   0 130]]\n",
      " \n",
      "confusion matrix of test data:\n",
      "[[322   0  13]\n",
      " [  0 237   0]\n",
      " [  0   0 468]]\n",
      " \n",
      "classification report of train data:\n",
      "              precision    recall  f1-score   support\n",
      "\n",
      "           0       1.00      1.00      1.00        81\n",
      "           1       1.00      1.00      1.00        49\n",
      "           2       1.00      1.00      1.00       130\n",
      "\n",
      "    accuracy                           1.00       260\n",
      "   macro avg       1.00      1.00      1.00       260\n",
      "weighted avg       1.00      1.00      1.00       260\n",
      "\n",
      " \n",
      "classification report of test data:\n",
      "              precision    recall  f1-score   support\n",
      "\n",
      "           0       1.00      0.96      0.98       335\n",
      "           1       1.00      1.00      1.00       237\n",
      "           2       0.97      1.00      0.99       468\n",
      "\n",
      "    accuracy                           0.99      1040\n",
      "   macro avg       0.99      0.99      0.99      1040\n",
      "weighted avg       0.99      0.99      0.99      1040\n",
      "\n"
     ]
    }
   ],
   "source": [
    "print(\"confusion matrix of train data:\")\n",
    "print(confusion_matrix(y_train,yp_train))\n",
    "print(\" \")\n",
    "print(\"confusion matrix of test data:\")\n",
    "print(confusion_matrix(y_test,yp_test))\n",
    "print(\" \")\n",
    "print(\"classification report of train data:\")\n",
    "print(classification_report(y_train,yp_train))\n",
    "print(\" \")\n",
    "print(\"classification report of test data:\")\n",
    "print(classification_report(y_test,yp_test))"
   ]
  },
  {
   "cell_type": "code",
   "execution_count": 14,
   "metadata": {},
   "outputs": [],
   "source": [
    "# Save the results in a data frame. \n",
    "dic_train = classification_report(y_train,yp_train,output_dict=True)\n",
    "dic_test = classification_report(y_test,yp_test,output_dict=True)\n",
    "result_train = pd.DataFrame.from_dict(dic_train)\n",
    "result_train = result_train.transpose()\n",
    "result_test = pd.DataFrame.from_dict(dic_test)\n",
    "result_test = result_test.transpose()"
   ]
  },
  {
   "cell_type": "markdown",
   "metadata": {},
   "source": [
    "display the results data frame"
   ]
  },
  {
   "cell_type": "code",
   "execution_count": 15,
   "metadata": {},
   "outputs": [
    {
     "name": "stdout",
     "output_type": "stream",
     "text": [
      "result dataframe of train dataset:\n",
      "              precision  recall  f1-score  support\n",
      "0                   1.0     1.0       1.0     81.0\n",
      "1                   1.0     1.0       1.0     49.0\n",
      "2                   1.0     1.0       1.0    130.0\n",
      "accuracy            1.0     1.0       1.0      1.0\n",
      "macro avg           1.0     1.0       1.0    260.0\n",
      "weighted avg        1.0     1.0       1.0    260.0\n",
      "\n",
      "result dataframe of test dataset:\n",
      "              precision    recall  f1-score    support\n",
      "0              1.000000  0.961194  0.980213   335.0000\n",
      "1              1.000000  1.000000  1.000000   237.0000\n",
      "2              0.972973  1.000000  0.986301   468.0000\n",
      "accuracy       0.987500  0.987500  0.987500     0.9875\n",
      "macro avg      0.990991  0.987065  0.988838  1040.0000\n",
      "weighted avg   0.987838  0.987500  0.987462  1040.0000\n"
     ]
    }
   ],
   "source": [
    "# display the results data frame\n",
    "print(\"result dataframe of train dataset:\")\n",
    "print(result_train)\n",
    "print(\"\")\n",
    "print(\"result dataframe of test dataset:\")\n",
    "print(result_test)"
   ]
  },
  {
   "cell_type": "markdown",
   "metadata": {},
   "source": [
    "Display Confusion Matrix for the test data. Remember to use the ConfusionMatrixDisplay function."
   ]
  },
  {
   "cell_type": "code",
   "execution_count": 16,
   "metadata": {},
   "outputs": [
    {
     "data": {
      "text/plain": [
       "<sklearn.metrics._plot.confusion_matrix.ConfusionMatrixDisplay at 0x7fadb1296ad0>"
      ]
     },
     "execution_count": 16,
     "metadata": {},
     "output_type": "execute_result"
    },
    {
     "data": {
      "image/png": "[encoded data removed]",
      "text/plain": [
       "<Figure size 640x480 with 2 Axes>"
      ]
     },
     "metadata": {},
     "output_type": "display_data"
    }
   ],
   "source": [
    "# Display Confusion Matrix for the test data. Remember to use the ConfusionMatrixDisplay function.\n",
    "ConfusionMatrixDisplay.from_predictions(y_test, yp_test)"
   ]
  },
  {
   "cell_type": "markdown",
   "metadata": {},
   "source": [
    "Comment: As we can see, the precision, recall, f1-score and support of accuracy are all about 96%, which we can conclude SVM is a good model to predict the sentiment analysis of this text dataset. "
   ]
  },
  {
   "cell_type": "markdown",
   "metadata": {},
   "source": [
    "##### Tuning Hyperparameters\n",
    "\n",
    "Kernel: Kernel methods kernel methods (KMs) are a class of pattern recognition algorithms. Its purpose is to find and learn the mutual relationship in a set of data. Widely used kernel methods include support vector machines, Gaussian processes, etc.\n",
    "The kernel method is an effective way to solve the problem of nonlinear pattern analysis. Its core idea is: first, the original data is embedded into a suitable high-dimensional feature space through some nonlinear mapping; then, the general linear learner is used in this New in-space analysis and processing modes.\n",
    "Kernel methods have distinct advantages over the paradigm of using general-purpose nonlinear learners to analyze directly on raw data:\n",
    "First of all, the general nonlinear learner is inconvenient to reflect the characteristics of specific application problems, while the nonlinear mapping of the kernel method is designed for specific application problems, which is convenient for integrating prior knowledge related to the problem.\n",
    "Furthermore, linear learners have better overfitting control than nonlinear learners, which can better guarantee generalization performance.\n",
    "Also, it is very important that the kernel method is still a way to achieve efficient calculations. It can use the kernel function to implicitly nonlinear mapping in the linear learner for simultaneous calculations, so that the computational complexity has nothing to do with the dimensionality of the high-dimensional feature space. \n",
    "\n",
    "In this dataset, I will train different kernels('poly','RBF' and 'Linear') to determine which suports the most accurate classifers."
   ]
  },
  {
   "cell_type": "markdown",
   "metadata": {},
   "source": [
    "##### SVM with Polynomial kernels\n",
    "\n",
    "A polynomial kernel is a more generalized form of the linear kernel. The polynomial kernel can distinguish curved or nonlinear input space.\n",
    "\n",
    "K(x,xi) = 1 + sum(x * xi)^d"
   ]
  },
  {
   "cell_type": "code",
   "execution_count": 17,
   "metadata": {},
   "outputs": [],
   "source": [
    "SVC = svm.SVC(C = 0.5,degree = 2,kernel='poly')\n",
    "model = SVC.fit(Train_X_Tfidf, y_train)\n",
    "yp_train = SVC.predict(Train_X_Tfidf)\n",
    "yp_test = SVC.predict(Test_X_Tfidf)"
   ]
  },
  {
   "cell_type": "markdown",
   "metadata": {},
   "source": [
    "Calculate the confusion matrix and classification report for the train and test data."
   ]
  },
  {
   "cell_type": "code",
   "execution_count": 18,
   "metadata": {},
   "outputs": [
    {
     "name": "stdout",
     "output_type": "stream",
     "text": [
      "confusion matrix of train data:\n",
      "[[ 80   0   1]\n",
      " [  0  49   0]\n",
      " [  0   0 130]]\n",
      " \n",
      "confusion matrix of test data:\n",
      "[[310   0  25]\n",
      " [  0 224  13]\n",
      " [  0   0 468]]\n",
      " \n",
      "classification report of train data:\n",
      "              precision    recall  f1-score   support\n",
      "\n",
      "           0       1.00      0.99      0.99        81\n",
      "           1       1.00      1.00      1.00        49\n",
      "           2       0.99      1.00      1.00       130\n",
      "\n",
      "    accuracy                           1.00       260\n",
      "   macro avg       1.00      1.00      1.00       260\n",
      "weighted avg       1.00      1.00      1.00       260\n",
      "\n",
      " \n",
      "classification reportof test data:\n",
      "              precision    recall  f1-score   support\n",
      "\n",
      "           0       1.00      0.93      0.96       335\n",
      "           1       1.00      0.95      0.97       237\n",
      "           2       0.92      1.00      0.96       468\n",
      "\n",
      "    accuracy                           0.96      1040\n",
      "   macro avg       0.97      0.96      0.96      1040\n",
      "weighted avg       0.97      0.96      0.96      1040\n",
      "\n"
     ]
    }
   ],
   "source": [
    "# Calculate the confusion matrix and classification report for the train and test data. \n",
    "print(\"confusion matrix of train data:\")\n",
    "print(confusion_matrix(y_train,yp_train))\n",
    "print(\" \")\n",
    "print(\"confusion matrix of test data:\")\n",
    "print(confusion_matrix(y_test,yp_test))\n",
    "print(\" \")\n",
    "print(\"classification report of train data:\")\n",
    "print(classification_report(y_train,yp_train))\n",
    "print(\" \")\n",
    "print(\"classification reportof test data:\")\n",
    "print(classification_report(y_test,yp_test))"
   ]
  },
  {
   "cell_type": "code",
   "execution_count": 19,
   "metadata": {},
   "outputs": [],
   "source": [
    "# Save the results in a data frame.\n",
    "dic_train = classification_report(y_train,yp_train,output_dict=True)\n",
    "dic_test = classification_report(y_test,yp_test,output_dict=True)\n",
    "result_train = pd.DataFrame.from_dict(dic_train)\n",
    "result_train = result_train.transpose()\n",
    "result_test = pd.DataFrame.from_dict(dic_test)\n",
    "result_test = result_test.transpose()"
   ]
  },
  {
   "cell_type": "markdown",
   "metadata": {},
   "source": [
    "display the results data frame"
   ]
  },
  {
   "cell_type": "code",
   "execution_count": 20,
   "metadata": {},
   "outputs": [
    {
     "name": "stdout",
     "output_type": "stream",
     "text": [
      "result dataframe of train dataset:\n",
      "              precision    recall  f1-score     support\n",
      "0              1.000000  0.987654  0.993789   81.000000\n",
      "1              1.000000  1.000000  1.000000   49.000000\n",
      "2              0.992366  1.000000  0.996169  130.000000\n",
      "accuracy       0.996154  0.996154  0.996154    0.996154\n",
      "macro avg      0.997455  0.995885  0.996652  260.000000\n",
      "weighted avg   0.996183  0.996154  0.996149  260.000000\n",
      "\n",
      "result dataframe of test dataset:\n",
      "              precision    recall  f1-score      support\n",
      "0              1.000000  0.925373  0.961240   335.000000\n",
      "1              1.000000  0.945148  0.971800   237.000000\n",
      "2              0.924901  1.000000  0.960986   468.000000\n",
      "accuracy       0.963462  0.963462  0.963462     0.963462\n",
      "macro avg      0.974967  0.956840  0.964675  1040.000000\n",
      "weighted avg   0.966206  0.963462  0.963532  1040.000000\n"
     ]
    }
   ],
   "source": [
    "# display the results data frame\n",
    "print(\"result dataframe of train dataset:\")\n",
    "print(result_train)\n",
    "print(\"\")\n",
    "print(\"result dataframe of test dataset:\")\n",
    "print(result_test)"
   ]
  },
  {
   "cell_type": "code",
   "execution_count": 21,
   "metadata": {},
   "outputs": [
    {
     "data": {
      "text/plain": [
       "<sklearn.metrics._plot.confusion_matrix.ConfusionMatrixDisplay at 0x7fada217a4a0>"
      ]
     },
     "execution_count": 21,
     "metadata": {},
     "output_type": "execute_result"
    },
    {
     "data": {
      "image/png": "[encoded data removed]",
      "text/plain": [
       "<Figure size 640x480 with 2 Axes>"
      ]
     },
     "metadata": {},
     "output_type": "display_data"
    }
   ],
   "source": [
    "# Display Confusion Matrix for the test data. Remember to use the ConfusionMatrixDisplay function.\n",
    "ConfusionMatrixDisplay.from_predictions(y_test, yp_test)"
   ]
  },
  {
   "cell_type": "markdown",
   "metadata": {},
   "source": [
    "##### SVM with RBF kernels\n",
    "\n",
    "Radial Basis Function Kernel The Radial basis function kernel is a popular kernel function commonly used in support vector machine classification. RBF can map an input space in infinite dimensional space.\n",
    "\n",
    "K(x,xi) = exp(-gamma * sum((x – xi^2))"
   ]
  },
  {
   "cell_type": "code",
   "execution_count": 22,
   "metadata": {},
   "outputs": [],
   "source": [
    "SVC = svm.SVC(C = 0.5,kernel='rbf')\n",
    "model = SVC.fit(Train_X_Tfidf, y_train)\n",
    "yp_train = SVC.predict(Train_X_Tfidf)\n",
    "yp_test = SVC.predict(Test_X_Tfidf)"
   ]
  },
  {
   "cell_type": "markdown",
   "metadata": {},
   "source": [
    "display the results data frame"
   ]
  },
  {
   "cell_type": "code",
   "execution_count": 23,
   "metadata": {},
   "outputs": [
    {
     "name": "stdout",
     "output_type": "stream",
     "text": [
      "result dataframe of train dataset:\n",
      "              precision    recall  f1-score     support\n",
      "0              1.000000  0.975309  0.987500   81.000000\n",
      "1              1.000000  0.938776  0.968421   49.000000\n",
      "2              0.962963  1.000000  0.981132  130.000000\n",
      "accuracy       0.980769  0.980769  0.980769    0.980769\n",
      "macro avg      0.987654  0.971361  0.979018  260.000000\n",
      "weighted avg   0.981481  0.980769  0.980720  260.000000\n",
      "\n",
      "result dataframe of test dataset:\n",
      "              precision    recall  f1-score      support\n",
      "0              1.000000  0.889552  0.941548   335.000000\n",
      "1              1.000000  0.793249  0.884706   237.000000\n",
      "2              0.844765  1.000000  0.915851   468.000000\n",
      "accuracy       0.917308  0.917308  0.917308     0.917308\n",
      "macro avg      0.948255  0.894267  0.914035  1040.000000\n",
      "weighted avg   0.930144  0.917308  0.917031  1040.000000\n"
     ]
    }
   ],
   "source": [
    "# Save the results in a data frame.\n",
    "dic_train = classification_report(y_train,yp_train,output_dict=True)\n",
    "dic_test = classification_report(y_test,yp_test,output_dict=True)\n",
    "result_train = pd.DataFrame.from_dict(dic_train)\n",
    "result_train = result_train.transpose()\n",
    "result_test = pd.DataFrame.from_dict(dic_test)\n",
    "result_test = result_test.transpose()\n",
    "# display the results data frame\n",
    "print(\"result dataframe of train dataset:\")\n",
    "print(result_train)\n",
    "print(\"\")\n",
    "print(\"result dataframe of test dataset:\")\n",
    "print(result_test)"
   ]
  },
  {
   "cell_type": "markdown",
   "metadata": {},
   "source": [
    "Display Confusion Matrix for the test data. Remember to use the ConfusionMatrixDisplay function."
   ]
  },
  {
   "cell_type": "code",
   "execution_count": 24,
   "metadata": {},
   "outputs": [
    {
     "data": {
      "text/plain": [
       "<sklearn.metrics._plot.confusion_matrix.ConfusionMatrixDisplay at 0x7fadb3b38d60>"
      ]
     },
     "execution_count": 24,
     "metadata": {},
     "output_type": "execute_result"
    },
    {
     "data": {
      "image/png": "[encoded data removed]",
      "text/plain": [
       "<Figure size 640x480 with 2 Axes>"
      ]
     },
     "metadata": {},
     "output_type": "display_data"
    }
   ],
   "source": [
    "# Display Confusion Matrix for the test data. Remember to use the ConfusionMatrixDisplay function.\n",
    "ConfusionMatrixDisplay.from_predictions(y_test, yp_test)"
   ]
  },
  {
   "cell_type": "markdown",
   "metadata": {},
   "source": [
    "##### SVM with Linear Kernels\n",
    "\n",
    "A linear kernel can be used as normal dot product any two given observations. The product between two vectors is the sum of the multiplication of each pair of input values.\n",
    "\n",
    "K(x, xi) = sum(x * xi)"
   ]
  },
  {
   "cell_type": "code",
   "execution_count": 25,
   "metadata": {},
   "outputs": [],
   "source": [
    "SVC = svm.SVC(C=1.0, kernel='linear', degree=3, gamma='auto')\n",
    "model = SVC.fit(Train_X_Tfidf, y_train)\n",
    "yp_train = SVC.predict(Train_X_Tfidf)\n",
    "yp_test = SVC.predict(Test_X_Tfidf)"
   ]
  },
  {
   "cell_type": "code",
   "execution_count": 26,
   "metadata": {},
   "outputs": [
    {
     "name": "stdout",
     "output_type": "stream",
     "text": [
      "result dataframe of train dataset:\n",
      "              precision  recall  f1-score  support\n",
      "0                   1.0     1.0       1.0     81.0\n",
      "1                   1.0     1.0       1.0     49.0\n",
      "2                   1.0     1.0       1.0    130.0\n",
      "accuracy            1.0     1.0       1.0      1.0\n",
      "macro avg           1.0     1.0       1.0    260.0\n",
      "weighted avg        1.0     1.0       1.0    260.0\n",
      "\n",
      "result dataframe of test dataset:\n",
      "              precision    recall  f1-score    support\n",
      "0              1.000000  0.961194  0.980213   335.0000\n",
      "1              1.000000  1.000000  1.000000   237.0000\n",
      "2              0.972973  1.000000  0.986301   468.0000\n",
      "accuracy       0.987500  0.987500  0.987500     0.9875\n",
      "macro avg      0.990991  0.987065  0.988838  1040.0000\n",
      "weighted avg   0.987838  0.987500  0.987462  1040.0000\n"
     ]
    }
   ],
   "source": [
    "# Save the results in a data frame.\n",
    "dic_train = classification_report(y_train,yp_train,output_dict=True)\n",
    "dic_test = classification_report(y_test,yp_test,output_dict=True)\n",
    "result_train = pd.DataFrame.from_dict(dic_train)\n",
    "result_train = result_train.transpose()\n",
    "result_test = pd.DataFrame.from_dict(dic_test)\n",
    "result_test = result_test.transpose()\n",
    "# display the results data frame\n",
    "print(\"result dataframe of train dataset:\")\n",
    "print(result_train)\n",
    "print(\"\")\n",
    "print(\"result dataframe of test dataset:\")\n",
    "print(result_test)"
   ]
  },
  {
   "cell_type": "markdown",
   "metadata": {},
   "source": [
    "Display Confusion Matrix for the test data. Remember to use the ConfusionMatrixDisplay function."
   ]
  },
  {
   "cell_type": "code",
   "execution_count": 27,
   "metadata": {},
   "outputs": [
    {
     "data": {
      "text/plain": [
       "<sklearn.metrics._plot.confusion_matrix.ConfusionMatrixDisplay at 0x7fadb3b67f70>"
      ]
     },
     "execution_count": 27,
     "metadata": {},
     "output_type": "execute_result"
    },
    {
     "data": {
      "image/png": "[encoded data removed]",
      "text/plain": [
       "<Figure size 640x480 with 2 Axes>"
      ]
     },
     "metadata": {},
     "output_type": "display_data"
    }
   ],
   "source": [
    "# Display Confusion Matrix for the test data. Remember to use the ConfusionMatrixDisplay function.\n",
    "ConfusionMatrixDisplay.from_predictions(y_test, yp_test)"
   ]
  },
  {
   "cell_type": "markdown",
   "metadata": {},
   "source": [
    "Comment: From the comparisons above from these three kernels, the linear permance best with showing the higher accuracy score of test which is almost 99%. The error made becomes smaller. "
   ]
  },
  {
   "cell_type": "markdown",
   "metadata": {},
   "source": [
    "#### Conclusion\n",
    "From the above three kernels training performance, we can conclude that linear kernel is the most suitable kernel from above three kernels(poly, rbf, linear). The accuracy score is almost 96%. By using the the hyperparameter tunning, the accuracy is higher and the model becomes a more accurate classifier. \n",
    "\n",
    "SVM Classifiers offer good accuracy and perform faster prediction compared to Naïve Bayes algorithm. They also use less memory because they use a subset of training points in the decision phase. SVM works well with a clear margin of separation and with high dimensional space. However, SVM is not suitable for large datasets because of its high training time and it also takes more time in training compared to Naïve Bayes. It works poorly with overlapping classes and is also sensitive to the type of kernel used.\n",
    "\n",
    "Overall, I think SVM is a suitable model to predict sentiment analysis of text data about consumer privacy. "
   ]
  },
  {
   "cell_type": "markdown",
   "metadata": {},
   "source": [
    "#### Reference\n",
    "Wikimedia Foundation. (2022, December 2). Support Vector Machine. Wikipedia. Retrieved December 3, 2022, from https://en.wikipedia.org/wiki/Support_vector_machine \n"
   ]
  }
 ],
 "metadata": {
  "kernelspec": {
   "display_name": "Python 3.10.4 ('ANLY501')",
   "language": "python",
   "name": "python3"
  },
  "language_info": {
   "codemirror_mode": {
    "name": "ipython",
    "version": 3
   },
   "file_extension": ".py",
   "mimetype": "text/x-python",
   "name": "python",
   "nbconvert_exporter": "python",
   "pygments_lexer": "ipython3",
   "version": "3.10.4"
  },
  "orig_nbformat": 4,
  "vscode": {
   "interpreter": {
    "hash": "35b5a992b9213609476f3b9dedb9c34ba69d78bca4613c4854b5108b11a72ed9"
   }
  }
 },
 "nbformat": 4,
 "nbformat_minor": 2
}
