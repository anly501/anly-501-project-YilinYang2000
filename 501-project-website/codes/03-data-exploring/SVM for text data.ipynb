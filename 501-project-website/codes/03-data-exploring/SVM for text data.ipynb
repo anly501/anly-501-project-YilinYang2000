{
 "cells": [
  {
   "cell_type": "markdown",
   "metadata": {},
   "source": [
    "## Homework 4 SVM for text data\n",
    "#### Date: Oct22, 2022\n",
    "#### Author: Yilin Yang"
   ]
  },
  {
   "cell_type": "markdown",
   "metadata": {},
   "source": [
    "#### Method Introduction "
   ]
  },
  {
   "cell_type": "markdown",
   "metadata": {},
   "source": [
    "1. Dataset Introduction\n",
    "\n",
    "    This dataset contains text I collected from twitter api. The text mainly talks about the users' reviews about consumers privacy by using media. \n",
    "    Then I use sentiment analysis to determine the users' attitudes (Neutral, Positive, Negaitve) and assign a attitude socres about their texts. \n",
    "    There are 1299 rows and 4 columns in this dataset. \n",
    "\n",
    "        Unnamed: 0 : The number id of each content\n",
    "\n",
    "        text: Each review from twitter users\n",
    "\n",
    "        result: Sentiment classification of each text(Positive, Neutral, Negative)\n",
    "\n",
    "        scores: Attitude scores. How likely the attitude to be Neutral, Postive, Negative\n",
    "\n",
    "2. Methods I plan to use\n",
    "\n",
    "    Support Vector Machine\n",
    "\n",
    "    Support vector machines (SVMs) are a set of supervised learning methods used for classification, regression and outliers detection. The advantages of support vector machines are: Effective in high dimensional spaces. Still effective in cases where number of dimensions is greater than the number of samples.\n",
    "\n",
    "    For this dataset, I want to build a model by using Support Vecotr Machines to predict the sentiment of each text. I plan to calculate the accuracy score and plot the confusion matrix in order to gain a result to determine whether SVM is suitable for this dataset. \n",
    "    \n",
    "3. Steps \n",
    "\n",
    "Import datasets\n",
    "\n",
    "        Drop unnecessary columns from the dataset(From this dataset, I mainly use text and result columns)\n",
    "\n",
    "Basic data exploration\n",
    "\n",
    "    Make some necessary EDA plots to get some first insight of the dataset. \n",
    "\n",
    "    I will use y = \"result\" (output_score) and \"text\" as feature. \n",
    "\n",
    "    Then I will reprocess the column text (Important!)\n",
    "\n",
    "            1. Drop NA\n",
    "            2. Change all letters to lower case\n",
    "            3. Broke the sentence into words\n",
    "            4. Remove stopwords\n",
    "\n",
    "Split Dataset\n",
    "\n",
    "        I will split dataset into 80% training data and 20% test data to get better prediction for SVM\n",
    "\n",
    "Training the model and Testing the results\n",
    "\n",
    "        Use x_train,y_train to build a model of SVM\n",
    "\n",
    "        Evaluate the performance of the SVM model by using the test data. \n",
    "            \n",
    "            Train different kernel in order to get the best performance of model\n",
    "\n",
    "            Generate a confusion matrix plot for SVM model to evaluate the performance\n",
    "    \n",
    "Conclusion\n",
    "\n",
    "        Gather the result of the SVM performance"
   ]
  },
  {
   "cell_type": "markdown",
   "metadata": {},
   "source": [
    "#### Step 1 Import Dataset"
   ]
  },
  {
   "cell_type": "code",
   "execution_count": 2,
   "metadata": {},
   "outputs": [
    {
     "data": {
      "text/html": [
       "<div>\n",
       "<style scoped>\n",
       "    .dataframe tbody tr th:only-of-type {\n",
       "        vertical-align: middle;\n",
       "    }\n",
       "\n",
       "    .dataframe tbody tr th {\n",
       "        vertical-align: top;\n",
       "    }\n",
       "\n",
       "    .dataframe thead th {\n",
       "        text-align: right;\n",
       "    }\n",
       "</style>\n",
       "<table border=\"1\" class=\"dataframe\">\n",
       "  <thead>\n",
       "    <tr style=\"text-align: right;\">\n",
       "      <th></th>\n",
       "      <th>Unnamed: 0</th>\n",
       "      <th>text</th>\n",
       "      <th>result</th>\n",
       "      <th>scores</th>\n",
       "    </tr>\n",
       "  </thead>\n",
       "  <tbody>\n",
       "    <tr>\n",
       "      <th>0</th>\n",
       "      <td>0</td>\n",
       "      <td>RT @LittleBirbMame: @aungaung1124 ตอบให้ตรงคำถ...</td>\n",
       "      <td>Neutral</td>\n",
       "      <td>100.0</td>\n",
       "    </tr>\n",
       "    <tr>\n",
       "      <th>1</th>\n",
       "      <td>1</td>\n",
       "      <td>RT @LittleBirbMame: @yamyummy ประทับใจความดักด...</td>\n",
       "      <td>Neutral</td>\n",
       "      <td>100.0</td>\n",
       "    </tr>\n",
       "    <tr>\n",
       "      <th>2</th>\n",
       "      <td>2</td>\n",
       "      <td>RT @angel_packsss: 🎉PROMOÇÕES QUE ESTÃO ROLAND...</td>\n",
       "      <td>Neutral</td>\n",
       "      <td>100.0</td>\n",
       "    </tr>\n",
       "    <tr>\n",
       "      <th>3</th>\n",
       "      <td>3</td>\n",
       "      <td>RT @wayydaminn: I love my privacy, not everyth...</td>\n",
       "      <td>Positive</td>\n",
       "      <td>44.7</td>\n",
       "    </tr>\n",
       "    <tr>\n",
       "      <th>4</th>\n",
       "      <td>4</td>\n",
       "      <td>RT @sapph7c: Hawaii is an island with even sma...</td>\n",
       "      <td>Negative</td>\n",
       "      <td>11.4</td>\n",
       "    </tr>\n",
       "  </tbody>\n",
       "</table>\n",
       "</div>"
      ],
      "text/plain": [
       "   Unnamed: 0                                               text    result  \\\n",
       "0           0  RT @LittleBirbMame: @aungaung1124 ตอบให้ตรงคำถ...   Neutral   \n",
       "1           1  RT @LittleBirbMame: @yamyummy ประทับใจความดักด...   Neutral   \n",
       "2           2  RT @angel_packsss: 🎉PROMOÇÕES QUE ESTÃO ROLAND...   Neutral   \n",
       "3           3  RT @wayydaminn: I love my privacy, not everyth...  Positive   \n",
       "4           4  RT @sapph7c: Hawaii is an island with even sma...  Negative   \n",
       "\n",
       "   scores  \n",
       "0   100.0  \n",
       "1   100.0  \n",
       "2   100.0  \n",
       "3    44.7  \n",
       "4    11.4  "
      ]
     },
     "execution_count": 2,
     "metadata": {},
     "output_type": "execute_result"
    }
   ],
   "source": [
    "# Read dataset in pd.read_csv and display first several rows.\n",
    "import pandas as pd\n",
    "df = pd.read_csv(\"/Users/yangyilin/Desktop/anly-501-project-YilinYang2000-1/data/00-raw-data/pytweetresult.csv\")\n",
    "df.head()"
   ]
  },
  {
   "cell_type": "code",
   "execution_count": 5,
   "metadata": {},
   "outputs": [
    {
     "name": "stdout",
     "output_type": "stream",
     "text": [
      "(1299, 4)\n",
      "Index(['Unnamed: 0', 'text', 'result', 'scores'], dtype='object')\n",
      "<bound method NDFrame.describe of       Unnamed: 0                                               text    result  \\\n",
      "0              0  RT @LittleBirbMame: @aungaung1124 ตอบให้ตรงคำถ...   Neutral   \n",
      "1              1  RT @LittleBirbMame: @yamyummy ประทับใจความดักด...   Neutral   \n",
      "2              2  RT @angel_packsss: 🎉PROMOÇÕES QUE ESTÃO ROLAND...   Neutral   \n",
      "3              3  RT @wayydaminn: I love my privacy, not everyth...  Positive   \n",
      "4              4  RT @sapph7c: Hawaii is an island with even sma...  Negative   \n",
      "...          ...                                                ...       ...   \n",
      "1294        1294  •Link do privacy: https://t.co/6usYIrNIyz 🌸\\n\\...  Positive   \n",
      "1295        1295  RT @LittleBirbMame: @yamyummy ประทับใจความดักด...   Neutral   \n",
      "1296        1296  RT @bblivery: ดาราไทยส่วนใหญ่มันเคยสนใจ privac...   Neutral   \n",
      "1297        1297  RT @goldenstarglow: its actually really concer...  Positive   \n",
      "1298        1298  RT @LittleBirbMame: @yamyummy ประทับใจความดักด...   Neutral   \n",
      "\n",
      "      scores  \n",
      "0      100.0  \n",
      "1      100.0  \n",
      "2      100.0  \n",
      "3       44.7  \n",
      "4       11.4  \n",
      "...      ...  \n",
      "1294    13.7  \n",
      "1295   100.0  \n",
      "1296   100.0  \n",
      "1297    12.9  \n",
      "1298   100.0  \n",
      "\n",
      "[1299 rows x 4 columns]>\n"
     ]
    }
   ],
   "source": [
    "# Print shape and columns of the dataset and describe the dataset\n",
    "print(df.shape)\n",
    "print(df.columns)\n",
    "print(df.describe)"
   ]
  },
  {
   "cell_type": "markdown",
   "metadata": {},
   "source": [
    "#### Step 2: Basic data exploration"
   ]
  },
  {
   "cell_type": "code",
   "execution_count": 8,
   "metadata": {},
   "outputs": [
    {
     "name": "stdout",
     "output_type": "stream",
     "text": [
      "Number of points with result = Negative: 254 0.19553502694380293\n",
      "Number of points with result = Neutral: 725 0.5581216320246344\n",
      "Number of points with result = Neutral: 320 0.24634334103156275\n"
     ]
    }
   ],
   "source": [
    "#Insert code to explore the load balance and count the times infl_score = 0 and infl_score = 1\n",
    "print(\"Number of points with result = Negative:\",sum(df['result']=='Negative'),sum(df['result']=='Negative')/(sum(df['result']=='Negative')+sum(df['result']=='Neutral')+sum(df['result']=='Positive')))\n",
    "print(\"Number of points with result = Neutral:\",sum(df['result']=='Neutral'),sum(df['result']=='Neutral')/(sum(df['result']=='Negative')+sum(df['result']=='Neutral')+sum(df['result']=='Positive')))\n",
    "print(\"Number of points with result = Neutral:\",sum(df['result']=='Positive'),sum(df['result']=='Positive')/(sum(df['result']=='Negative')+sum(df['result']=='Neutral')+sum(df['result']=='Positive')))"
   ]
  },
  {
   "cell_type": "markdown",
   "metadata": {},
   "source": [
    "##### Make Visulization plot of EDA"
   ]
  },
  {
   "cell_type": "code",
   "execution_count": 11,
   "metadata": {},
   "outputs": [
    {
     "data": {
      "text/plain": [
       "<AxesSubplot:>"
      ]
     },
     "execution_count": 11,
     "metadata": {},
     "output_type": "execute_result"
    },
    {
     "data": {
      "image/png": "[encoded data removed]",
      "text/plain": [
       "<Figure size 640x480 with 1 Axes>"
      ]
     },
     "metadata": {},
     "output_type": "display_data"
    }
   ],
   "source": [
    "df['result'].value_counts().plot(kind=\"bar\")\n"
   ]
  },
  {
   "cell_type": "markdown",
   "metadata": {},
   "source": [
    "As we can see in the plot, Neutral is above 50% in the result of this dataset, the second more value is Postive, then is Negative"
   ]
  },
  {
   "cell_type": "code",
   "execution_count": 12,
   "metadata": {},
   "outputs": [],
   "source": [
    "df = df.drop(['Unnamed: 0','scores'],axis=1) #Drop unnecessary columns"
   ]
  },
  {
   "cell_type": "code",
   "execution_count": 13,
   "metadata": {},
   "outputs": [],
   "source": [
    "# Import required packages\n",
    "import numpy as np\n",
    "from nltk.tokenize import word_tokenize\n",
    "from nltk import pos_tag\n",
    "from nltk.corpus import stopwords\n",
    "from nltk.stem import WordNetLemmatizer\n",
    "from sklearn.preprocessing import LabelEncoder\n",
    "from collections import defaultdict\n",
    "from nltk.corpus import wordnet as wn\n",
    "from sklearn.feature_extraction.text import TfidfVectorizer\n",
    "from sklearn import model_selection, naive_bayes, svm\n",
    "from sklearn.metrics import accuracy_score\n",
    "import matplotlib.pyplot as plt\n",
    "import seaborn as sns\n",
    "from sklearn.metrics import confusion_matrix, ConfusionMatrixDisplay\n",
    "from sklearn.metrics import classification_report, confusion_matrix"
   ]
  },
  {
   "cell_type": "code",
   "execution_count": 14,
   "metadata": {},
   "outputs": [],
   "source": [
    "# insert code to remove blank rows if any.\n",
    "df['text'].dropna()\n",
    "# Change all the text to lower case.\n",
    "df['text'] = [entry.lower() for entry in df['text']]\n",
    "# Tokenization In this each entry in the df will be broken into set of words\n",
    "df['text'] = [word_tokenize(entry) for entry in df['text']]\n",
    "# Remove Stop words, Non-Numeric and perfom Word Stemming/Lemmenting.\n",
    "tag_map = defaultdict(lambda : wn.NOUN)\n",
    "tag_map['J'] = wn.ADJ\n",
    "tag_map['V'] = wn.VERB\n",
    "tag_map['R'] = wn.ADV\n",
    "for index,entry in enumerate(df['text']):\n",
    "    # Declaring Empty List to store the words that follow the rules for this step\n",
    "    Final_words = []\n",
    "    # Initializing WordNetLemmatizer()\n",
    "    word_Lemmatized = WordNetLemmatizer()\n",
    "    # pos_tag function below will provide the 'tag' i.e if the word is Noun(N) or Verb(V) or something else.\n",
    "    for word, tag in pos_tag(entry):\n",
    "        # Below condition is to check for Stop words and consider only alphabets\n",
    "        if word not in stopwords.words('english') and word.isalpha():\n",
    "            word_Final = word_Lemmatized.lemmatize(word,tag_map[tag[0]])\n",
    "            Final_words.append(word_Final)\n",
    "    # The final processed set of words for each iteration will be stored in 'text_final'\n",
    "    df.loc[index,'text_final'] = str(Final_words)"
   ]
  },
  {
   "cell_type": "code",
   "execution_count": 15,
   "metadata": {},
   "outputs": [],
   "source": [
    "df = df.drop(['text'],axis=1) # Drop Initial text column"
   ]
  },
  {
   "cell_type": "code",
   "execution_count": 16,
   "metadata": {},
   "outputs": [
    {
     "data": {
      "text/plain": [
       "0        ['rt', 'littlebirbmame', 'unicef', 'privacy']\n",
       "1    ['rt', 'littlebirbmame', 'yamyummy', 'unicef',...\n",
       "2    ['rt', 'que', 'estão', 'pack', 'masturbacão', ...\n",
       "3    ['rt', 'wayydaminn', 'love', 'privacy', 'every...\n",
       "4    ['rt', 'hawaii', 'island', 'even', 'small', 'p...\n",
       "Name: text_final, dtype: object"
      ]
     },
     "execution_count": 16,
     "metadata": {},
     "output_type": "execute_result"
    }
   ],
   "source": [
    "df['text_final'].head() # Show first 5 rows of the edited column"
   ]
  },
  {
   "cell_type": "markdown",
   "metadata": {},
   "source": [
    "#### Step 3 Split dataset"
   ]
  },
  {
   "cell_type": "code",
   "execution_count": 19,
   "metadata": {},
   "outputs": [
    {
     "name": "stdout",
     "output_type": "stream",
     "text": [
      "<class 'pandas.core.series.Series'> (259,)\n",
      "<class 'pandas.core.series.Series'> (259,)\n",
      "<class 'pandas.core.series.Series'> (1040,)\n",
      "<class 'pandas.core.series.Series'> (1040,)\n"
     ]
    }
   ],
   "source": [
    "# Insert code to partition datasets into training and testing datasets and print types and shapes of these datasets\n",
    "from sklearn.model_selection import train_test_split\n",
    "x_train,x_test,y_train,y_test=train_test_split(df['text_final'],df['result'],test_size=0.8)\n",
    "print(type(x_train),x_train.shape)\n",
    "print(type(y_train),y_train.shape)\n",
    "print(type(x_test),x_test.shape)\n",
    "print(type(y_test),y_test.shape)"
   ]
  },
  {
   "cell_type": "code",
   "execution_count": 24,
   "metadata": {},
   "outputs": [],
   "source": [
    "# Insert code to encode the column infl_score with value between 0 and 1 and 2. 0 represents Negative, 1 represents Neutral, 2 represnets Positive\n",
    "Encoder = LabelEncoder()\n",
    "y_train = Encoder.fit_transform(y_train)\n",
    "y_test = Encoder.fit_transform(y_test)"
   ]
  },
  {
   "cell_type": "markdown",
   "metadata": {},
   "source": [
    "Word Vectorization\n",
    "\n",
    "It is a general process of turning a collection of text documents into numerical feature vectors.Their are many methods to convert text data to vectors which the model can understand but by far the most popular method is called TF-IDF. This is an acronym than stands for “Term Frequency — Inverse Document” Frequency which are the components of the resulting scores assigned to each word.\n",
    "\n",
    "Term Frequency: This summarizes how often a given word appears within a document.\n",
    "\n",
    "Inverse Document Frequency: This down scales words that appear a lot across documents.\n",
    "\n",
    "we will transform x_train and x_test to vectorized Train_X_Tfidf and Test_X_Tfidf. These will now contain for each row a list of unique integer number and its associated importance as calculated by TF-IDF."
   ]
  },
  {
   "cell_type": "code",
   "execution_count": 26,
   "metadata": {},
   "outputs": [],
   "source": [
    "\n",
    "Tfidf_vect = TfidfVectorizer(max_features=5000)\n",
    "Tfidf_vect.fit(df['text_final'])\n",
    "Train_X_Tfidf = Tfidf_vect.transform(x_train)\n",
    "Test_X_Tfidf = Tfidf_vect.transform(x_test)"
   ]
  },
  {
   "cell_type": "code",
   "execution_count": 27,
   "metadata": {},
   "outputs": [
    {
     "name": "stdout",
     "output_type": "stream",
     "text": [
      "  (0, 2361)\t0.5736015800806065\n",
      "  (0, 1948)\t0.1137703036257489\n",
      "  (0, 705)\t0.5736015800806065\n",
      "  (0, 8)\t0.5736015800806065\n",
      "  (1, 2627)\t0.1986563062776938\n",
      "  (1, 2372)\t0.22287669365322268\n",
      "  (1, 2127)\t0.04125971137078998\n",
      "  (1, 1964)\t0.26126509939637615\n",
      "  (1, 1924)\t0.26126509939637615\n",
      "  (1, 1596)\t0.19326987568354315\n",
      "  (1, 1388)\t0.26126509939637615\n",
      "  (1, 1387)\t0.24709708102875164\n",
      "  (1, 1302)\t0.22287669365322268\n",
      "  (1, 1208)\t0.15942517386872607\n",
      "  (1, 1031)\t0.26126509939637615\n",
      "  (1, 944)\t0.26126509939637615\n",
      "  (1, 856)\t0.17592306387899886\n",
      "  (1, 836)\t0.26126509939637615\n",
      "  (1, 684)\t0.26126509939637615\n",
      "  (1, 652)\t0.11256278732932483\n",
      "  (1, 452)\t0.22287669365322268\n",
      "  (1, 319)\t0.2174902630590721\n",
      "  (1, 315)\t0.23704471202084723\n",
      "  (1, 60)\t0.24709708102875164\n",
      "  (2, 2690)\t0.3135928556197664\n",
      "  :\t:\n",
      "  (256, 1456)\t0.21975238988542523\n",
      "  (256, 1208)\t0.11604433940687903\n",
      "  (256, 1111)\t0.3803456522429738\n",
      "  (256, 797)\t0.2851290611830721\n",
      "  (256, 545)\t0.3244604105682101\n",
      "  (256, 204)\t0.3803456522429738\n",
      "  (257, 2127)\t0.20422872694818517\n",
      "  (257, 1948)\t0.25650192097071806\n",
      "  (257, 350)\t0.9447208008864074\n",
      "  (258, 2647)\t0.139390401453912\n",
      "  (258, 2545)\t0.24590512155978403\n",
      "  (258, 2441)\t0.2325700519810254\n",
      "  (258, 2395)\t0.22310866954393888\n",
      "  (258, 2353)\t0.2325700519810254\n",
      "  (258, 2178)\t0.4195471999303605\n",
      "  (258, 2160)\t0.22310866954393888\n",
      "  (258, 2084)\t0.24590512155978403\n",
      "  (258, 1953)\t0.20470384180349632\n",
      "  (258, 1948)\t0.04877375048208871\n",
      "  (258, 1524)\t0.20977359996518025\n",
      "  (258, 1391)\t0.15684187756583778\n",
      "  (258, 1137)\t0.24590512155978403\n",
      "  (258, 1078)\t0.4651401039620508\n",
      "  (258, 645)\t0.1603070087918179\n",
      "  (258, 180)\t0.24590512155978403\n"
     ]
    }
   ],
   "source": [
    "print(Train_X_Tfidf)"
   ]
  },
  {
   "cell_type": "markdown",
   "metadata": {},
   "source": [
    "Now the column text is ready to be fed into SVM algortithms."
   ]
  },
  {
   "cell_type": "markdown",
   "metadata": {},
   "source": [
    "#### Step 4 Training and Predicting the model"
   ]
  },
  {
   "cell_type": "code",
   "execution_count": 29,
   "metadata": {},
   "outputs": [],
   "source": [
    "# Classifier - Algorithm - SVM\n",
    "# fit the training dataset on the classifier\n",
    "SVC = svm.SVC()\n",
    "model = SVC.fit(Train_X_Tfidf,y_train)\n",
    "# predict the labels on validation dataset\n",
    "yp_train = model.predict(Train_X_Tfidf)\n",
    "yp_test = model.predict(Test_X_Tfidf)"
   ]
  },
  {
   "cell_type": "code",
   "execution_count": 30,
   "metadata": {},
   "outputs": [
    {
     "name": "stdout",
     "output_type": "stream",
     "text": [
      "confusion matrix of train data:\n",
      "[[ 47   0   0]\n",
      " [  0 144   0]\n",
      " [  0   0  68]]\n",
      " \n",
      "confusion matrix of test data:\n",
      "[[ 67 139   1]\n",
      " [  0 581   0]\n",
      " [  0 135 117]]\n",
      " \n",
      "classification report of train data:\n",
      "              precision    recall  f1-score   support\n",
      "\n",
      "           0       1.00      1.00      1.00        47\n",
      "           1       1.00      1.00      1.00       144\n",
      "           2       1.00      1.00      1.00        68\n",
      "\n",
      "    accuracy                           1.00       259\n",
      "   macro avg       1.00      1.00      1.00       259\n",
      "weighted avg       1.00      1.00      1.00       259\n",
      "\n",
      " \n",
      "classification report of test data:\n",
      "              precision    recall  f1-score   support\n",
      "\n",
      "           0       1.00      0.32      0.49       207\n",
      "           1       0.68      1.00      0.81       581\n",
      "           2       0.99      0.46      0.63       252\n",
      "\n",
      "    accuracy                           0.74      1040\n",
      "   macro avg       0.89      0.60      0.64      1040\n",
      "weighted avg       0.82      0.74      0.70      1040\n",
      "\n"
     ]
    }
   ],
   "source": [
    "print(\"confusion matrix of train data:\")\n",
    "print(confusion_matrix(y_train,yp_train))\n",
    "print(\" \")\n",
    "print(\"confusion matrix of test data:\")\n",
    "print(confusion_matrix(y_test,yp_test))\n",
    "print(\" \")\n",
    "print(\"classification report of train data:\")\n",
    "print(classification_report(y_train,yp_train))\n",
    "print(\" \")\n",
    "print(\"classification report of test data:\")\n",
    "print(classification_report(y_test,yp_test))"
   ]
  },
  {
   "cell_type": "code",
   "execution_count": 31,
   "metadata": {},
   "outputs": [],
   "source": [
    "# Save the results in a data frame. \n",
    "dic_train = classification_report(y_train,yp_train,output_dict=True)\n",
    "dic_test = classification_report(y_test,yp_test,output_dict=True)\n",
    "result_train = pd.DataFrame.from_dict(dic_train)\n",
    "result_train = result_train.transpose()\n",
    "result_test = pd.DataFrame.from_dict(dic_test)\n",
    "result_test = result_test.transpose()"
   ]
  },
  {
   "cell_type": "code",
   "execution_count": 32,
   "metadata": {},
   "outputs": [
    {
     "name": "stdout",
     "output_type": "stream",
     "text": [
      "result dataframe of train dataset:\n",
      "              precision  recall  f1-score  support\n",
      "0                   1.0     1.0       1.0     47.0\n",
      "1                   1.0     1.0       1.0    144.0\n",
      "2                   1.0     1.0       1.0     68.0\n",
      "accuracy            1.0     1.0       1.0      1.0\n",
      "macro avg           1.0     1.0       1.0    259.0\n",
      "weighted avg        1.0     1.0       1.0    259.0\n",
      "\n",
      "result dataframe of test dataset:\n",
      "              precision    recall  f1-score      support\n",
      "0              1.000000  0.323671  0.489051   207.000000\n",
      "1              0.679532  1.000000  0.809192   581.000000\n",
      "2              0.991525  0.464286  0.632432   252.000000\n",
      "accuracy       0.735577  0.735577  0.735577     0.735577\n",
      "macro avg      0.890353  0.595986  0.643559  1040.000000\n",
      "weighted avg   0.818916  0.735577  0.702642  1040.000000\n"
     ]
    }
   ],
   "source": [
    "# display the results data frame\n",
    "print(\"result dataframe of train dataset:\")\n",
    "print(result_train)\n",
    "print(\"\")\n",
    "print(\"result dataframe of test dataset:\")\n",
    "print(result_test)"
   ]
  },
  {
   "cell_type": "code",
   "execution_count": 33,
   "metadata": {},
   "outputs": [
    {
     "data": {
      "text/plain": [
       "<sklearn.metrics._plot.confusion_matrix.ConfusionMatrixDisplay at 0x7f7c49afacb0>"
      ]
     },
     "execution_count": 33,
     "metadata": {},
     "output_type": "execute_result"
    },
    {
     "data": {
      "image/png": "[encoded data removed]",
      "text/plain": [
       "<Figure size 640x480 with 2 Axes>"
      ]
     },
     "metadata": {},
     "output_type": "display_data"
    }
   ],
   "source": [
    "# Display Confusion Matrix for the test data. Remember to use the ConfusionMatrixDisplay function.\n",
    "ConfusionMatrixDisplay.from_predictions(y_test, yp_test)"
   ]
  },
  {
   "cell_type": "markdown",
   "metadata": {},
   "source": [
    "Comment: As we can see, the precision, recall, f1-score and support of accuracy are all about 73%, which we can conclude SVM is a good model to predict the sentiment analysis of this text dataset. "
   ]
  },
  {
   "cell_type": "markdown",
   "metadata": {},
   "source": [
    "##### Tuning Hyperparameters\n",
    "\n",
    "Kernel: The main function of the kernel is to transform the given dataset input data into the required form. There are various types of functions such as linear, polynomial, and radial basis function (RBF). Polynomial and RBF are useful for non-linear hyperplane. Polynomial and RBF kernels compute the separation line in the higher dimension. In some of the applications, it is suggested to use a more complex kernel to separate the classes that are curved or nonlinear. This transformation can lead to more accurate classifiers\n",
    "\n",
    "In this dataset, I will train different kernels('poly','RBF' and 'Linear') to determine which suports the most accurate classifers."
   ]
  },
  {
   "cell_type": "markdown",
   "metadata": {},
   "source": [
    "##### SVM with Polynomial kernels\n",
    "\n",
    "A polynomial kernel is a more generalized form of the linear kernel. The polynomial kernel can distinguish curved or nonlinear input space.\n",
    "\n",
    "K(x,xi) = 1 + sum(x * xi)^d"
   ]
  },
  {
   "cell_type": "code",
   "execution_count": 34,
   "metadata": {},
   "outputs": [],
   "source": [
    "SVC = svm.SVC(C = 0.5,degree = 2,kernel='poly')\n",
    "model = SVC.fit(Train_X_Tfidf, y_train)\n",
    "yp_train = SVC.predict(Train_X_Tfidf)\n",
    "yp_test = SVC.predict(Test_X_Tfidf)"
   ]
  },
  {
   "cell_type": "code",
   "execution_count": 35,
   "metadata": {},
   "outputs": [
    {
     "name": "stdout",
     "output_type": "stream",
     "text": [
      "confusion matrix of train data:\n",
      "[[ 21  26   0]\n",
      " [  0 144   0]\n",
      " [  1  36  31]]\n",
      " \n",
      "confusion matrix of test data:\n",
      "[[ 60 147   0]\n",
      " [  0 581   0]\n",
      " [  0 175  77]]\n",
      " \n",
      "classification report of train data:\n",
      "              precision    recall  f1-score   support\n",
      "\n",
      "           0       0.95      0.45      0.61        47\n",
      "           1       0.70      1.00      0.82       144\n",
      "           2       1.00      0.46      0.63        68\n",
      "\n",
      "    accuracy                           0.76       259\n",
      "   macro avg       0.88      0.63      0.69       259\n",
      "weighted avg       0.82      0.76      0.73       259\n",
      "\n",
      " \n",
      "classification reportof test data:\n",
      "              precision    recall  f1-score   support\n",
      "\n",
      "           0       1.00      0.29      0.45       207\n",
      "           1       0.64      1.00      0.78       581\n",
      "           2       1.00      0.31      0.47       252\n",
      "\n",
      "    accuracy                           0.69      1040\n",
      "   macro avg       0.88      0.53      0.57      1040\n",
      "weighted avg       0.80      0.69      0.64      1040\n",
      "\n"
     ]
    }
   ],
   "source": [
    "# Calculate the confusion matrix and classification report for the train and test data. \n",
    "print(\"confusion matrix of train data:\")\n",
    "print(confusion_matrix(y_train,yp_train))\n",
    "print(\" \")\n",
    "print(\"confusion matrix of test data:\")\n",
    "print(confusion_matrix(y_test,yp_test))\n",
    "print(\" \")\n",
    "print(\"classification report of train data:\")\n",
    "print(classification_report(y_train,yp_train))\n",
    "print(\" \")\n",
    "print(\"classification reportof test data:\")\n",
    "print(classification_report(y_test,yp_test))"
   ]
  },
  {
   "cell_type": "code",
   "execution_count": 36,
   "metadata": {},
   "outputs": [],
   "source": [
    "# Save the results in a data frame.\n",
    "dic_train = classification_report(y_train,yp_train,output_dict=True)\n",
    "dic_test = classification_report(y_test,yp_test,output_dict=True)\n",
    "result_train = pd.DataFrame.from_dict(dic_train)\n",
    "result_train = result_train.transpose()\n",
    "result_test = pd.DataFrame.from_dict(dic_test)\n",
    "result_test = result_test.transpose()"
   ]
  },
  {
   "cell_type": "code",
   "execution_count": 37,
   "metadata": {},
   "outputs": [
    {
     "name": "stdout",
     "output_type": "stream",
     "text": [
      "result dataframe of train dataset:\n",
      "              precision    recall  f1-score     support\n",
      "0              0.954545  0.446809  0.608696   47.000000\n",
      "1              0.699029  1.000000  0.822857  144.000000\n",
      "2              1.000000  0.455882  0.626263   68.000000\n",
      "accuracy       0.756757  0.756757  0.756757    0.756757\n",
      "macro avg      0.884525  0.634230  0.685938  259.000000\n",
      "weighted avg   0.824416  0.756757  0.732378  259.000000\n",
      "\n",
      "result dataframe of test dataset:\n",
      "              precision    recall  f1-score      support\n",
      "0              1.000000  0.289855  0.449438   207.000000\n",
      "1              0.643411  1.000000  0.783019   581.000000\n",
      "2              1.000000  0.305556  0.468085   252.000000\n",
      "accuracy       0.690385  0.690385  0.690385     0.690385\n",
      "macro avg      0.881137  0.531804  0.566847  1040.000000\n",
      "weighted avg   0.800790  0.690385  0.640313  1040.000000\n"
     ]
    }
   ],
   "source": [
    "# display the results data frame\n",
    "print(\"result dataframe of train dataset:\")\n",
    "print(result_train)\n",
    "print(\"\")\n",
    "print(\"result dataframe of test dataset:\")\n",
    "print(result_test)"
   ]
  },
  {
   "cell_type": "code",
   "execution_count": 38,
   "metadata": {},
   "outputs": [
    {
     "data": {
      "text/plain": [
       "<sklearn.metrics._plot.confusion_matrix.ConfusionMatrixDisplay at 0x7f7c49b83d30>"
      ]
     },
     "execution_count": 38,
     "metadata": {},
     "output_type": "execute_result"
    },
    {
     "data": {
      "image/png": "[encoded data removed]",
      "text/plain": [
       "<Figure size 640x480 with 2 Axes>"
      ]
     },
     "metadata": {},
     "output_type": "display_data"
    }
   ],
   "source": [
    "# Display Confusion Matrix for the test data. Remember to use the ConfusionMatrixDisplay function.\n",
    "ConfusionMatrixDisplay.from_predictions(y_test, yp_test)"
   ]
  },
  {
   "cell_type": "markdown",
   "metadata": {},
   "source": [
    "##### SVM with RBF kernels\n",
    "\n",
    "Radial Basis Function Kernel The Radial basis function kernel is a popular kernel function commonly used in support vector machine classification. RBF can map an input space in infinite dimensional space.\n",
    "\n",
    "K(x,xi) = exp(-gamma * sum((x – xi^2))"
   ]
  },
  {
   "cell_type": "code",
   "execution_count": 39,
   "metadata": {},
   "outputs": [],
   "source": [
    "SVC = svm.SVC(C = 0.5,kernel='rbf')\n",
    "model = SVC.fit(Train_X_Tfidf, y_train)\n",
    "yp_train = SVC.predict(Train_X_Tfidf)\n",
    "yp_test = SVC.predict(Test_X_Tfidf)"
   ]
  },
  {
   "cell_type": "code",
   "execution_count": 40,
   "metadata": {},
   "outputs": [
    {
     "name": "stdout",
     "output_type": "stream",
     "text": [
      "result dataframe of train dataset:\n",
      "              precision    recall  f1-score     support\n",
      "0              1.000000  0.446809  0.617647   47.000000\n",
      "1              0.692308  1.000000  0.818182  144.000000\n",
      "2              1.000000  0.441176  0.612245   68.000000\n",
      "accuracy       0.752896  0.752896  0.752896    0.752896\n",
      "macro avg      0.897436  0.629328  0.682691  259.000000\n",
      "weighted avg   0.828928  0.752896  0.727723  259.000000\n",
      "\n",
      "result dataframe of test dataset:\n",
      "              precision    recall  f1-score      support\n",
      "0              1.000000  0.289855  0.449438   207.000000\n",
      "1              0.642699  1.000000  0.782492   581.000000\n",
      "2              1.000000  0.301587  0.463415   252.000000\n",
      "accuracy       0.689423  0.689423  0.689423     0.689423\n",
      "macro avg      0.880900  0.530481  0.565115  1040.000000\n",
      "weighted avg   0.800392  0.689423  0.638886  1040.000000\n"
     ]
    }
   ],
   "source": [
    "# Save the results in a data frame.\n",
    "dic_train = classification_report(y_train,yp_train,output_dict=True)\n",
    "dic_test = classification_report(y_test,yp_test,output_dict=True)\n",
    "result_train = pd.DataFrame.from_dict(dic_train)\n",
    "result_train = result_train.transpose()\n",
    "result_test = pd.DataFrame.from_dict(dic_test)\n",
    "result_test = result_test.transpose()\n",
    "# display the results data frame\n",
    "print(\"result dataframe of train dataset:\")\n",
    "print(result_train)\n",
    "print(\"\")\n",
    "print(\"result dataframe of test dataset:\")\n",
    "print(result_test)"
   ]
  },
  {
   "cell_type": "code",
   "execution_count": 41,
   "metadata": {},
   "outputs": [
    {
     "data": {
      "text/plain": [
       "<sklearn.metrics._plot.confusion_matrix.ConfusionMatrixDisplay at 0x7f7c597beb30>"
      ]
     },
     "execution_count": 41,
     "metadata": {},
     "output_type": "execute_result"
    },
    {
     "data": {
      "image/png": "[encoded data removed]",
      "text/plain": [
       "<Figure size 640x480 with 2 Axes>"
      ]
     },
     "metadata": {},
     "output_type": "display_data"
    }
   ],
   "source": [
    "# Display Confusion Matrix for the test data. Remember to use the ConfusionMatrixDisplay function.\n",
    "ConfusionMatrixDisplay.from_predictions(y_test, yp_test)"
   ]
  },
  {
   "cell_type": "markdown",
   "metadata": {},
   "source": [
    "##### SVM with Linear Kernels\n",
    "\n",
    "A linear kernel can be used as normal dot product any two given observations. The product between two vectors is the sum of the multiplication of each pair of input values.\n",
    "\n",
    "K(x, xi) = sum(x * xi)"
   ]
  },
  {
   "cell_type": "code",
   "execution_count": 42,
   "metadata": {},
   "outputs": [],
   "source": [
    "SVC = svm.SVC(C=1.0, kernel='linear', degree=3, gamma='auto')\n",
    "model = SVC.fit(Train_X_Tfidf, y_train)\n",
    "yp_train = SVC.predict(Train_X_Tfidf)\n",
    "yp_test = SVC.predict(Test_X_Tfidf)\n"
   ]
  },
  {
   "cell_type": "code",
   "execution_count": 43,
   "metadata": {},
   "outputs": [
    {
     "name": "stdout",
     "output_type": "stream",
     "text": [
      "result dataframe of train dataset:\n",
      "              precision    recall  f1-score     support\n",
      "0              0.978723  0.978723  0.978723   47.000000\n",
      "1              1.000000  1.000000  1.000000  144.000000\n",
      "2              0.985294  0.985294  0.985294   68.000000\n",
      "accuracy       0.992278  0.992278  0.992278    0.992278\n",
      "macro avg      0.988006  0.988006  0.988006  259.000000\n",
      "weighted avg   0.992278  0.992278  0.992278  259.000000\n",
      "\n",
      "result dataframe of test dataset:\n",
      "              precision    recall  f1-score      support\n",
      "0              0.897436  0.338164  0.491228   207.000000\n",
      "1              0.776224  0.955250  0.856481   581.000000\n",
      "2              0.748988  0.734127  0.741483   252.000000\n",
      "accuracy       0.778846  0.778846  0.778846     0.778846\n",
      "macro avg      0.807549  0.675847  0.696398  1040.000000\n",
      "weighted avg   0.793750  0.778846  0.755917  1040.000000\n"
     ]
    }
   ],
   "source": [
    "# Save the results in a data frame.\n",
    "dic_train = classification_report(y_train,yp_train,output_dict=True)\n",
    "dic_test = classification_report(y_test,yp_test,output_dict=True)\n",
    "result_train = pd.DataFrame.from_dict(dic_train)\n",
    "result_train = result_train.transpose()\n",
    "result_test = pd.DataFrame.from_dict(dic_test)\n",
    "result_test = result_test.transpose()\n",
    "# display the results data frame\n",
    "print(\"result dataframe of train dataset:\")\n",
    "print(result_train)\n",
    "print(\"\")\n",
    "print(\"result dataframe of test dataset:\")\n",
    "print(result_test)"
   ]
  },
  {
   "cell_type": "code",
   "execution_count": 44,
   "metadata": {},
   "outputs": [
    {
     "data": {
      "text/plain": [
       "<sklearn.metrics._plot.confusion_matrix.ConfusionMatrixDisplay at 0x7f7c5985dd20>"
      ]
     },
     "execution_count": 44,
     "metadata": {},
     "output_type": "execute_result"
    },
    {
     "data": {
      "image/png": "[encoded data removed]",
      "text/plain": [
       "<Figure size 640x480 with 2 Axes>"
      ]
     },
     "metadata": {},
     "output_type": "display_data"
    }
   ],
   "source": [
    "# Display Confusion Matrix for the test data. Remember to use the ConfusionMatrixDisplay function.\n",
    "ConfusionMatrixDisplay.from_predictions(y_test, yp_test)"
   ]
  },
  {
   "cell_type": "markdown",
   "metadata": {},
   "source": [
    "Comment: From the comparisons above from these three kernels, the linear permance best with showing the higher accuracy score of test which is almost 78%. The error made becomes smaller. "
   ]
  },
  {
   "cell_type": "markdown",
   "metadata": {},
   "source": [
    "#### Conclusion"
   ]
  },
  {
   "cell_type": "markdown",
   "metadata": {},
   "source": [
    "From the above three kernels training performance, we can conclude that linear kernel is the most suitable kernel from above three kernels(poly, rbf, linear). The accuracy score is almost 78%. By using the the hyperparameter tunning, the accuracy is higher and the model becomes a more accurate classifier. \n",
    "\n",
    "SVM Classifiers offer good accuracy and perform faster prediction compared to Naïve Bayes algorithm. They also use less memory because they use a subset of training points in the decision phase. SVM works well with a clear margin of separation and with high dimensional space. However, SVM is not suitable for large datasets because of its high training time and it also takes more time in training compared to Naïve Bayes. It works poorly with overlapping classes and is also sensitive to the type of kernel used.\n",
    "\n",
    "Overall, I think SVM is a suitable model to predict sentiment analysis of text data about consumer privacy. "
   ]
  }
 ],
 "metadata": {
  "kernelspec": {
   "display_name": "Python 3.10.4 ('ANLY501')",
   "language": "python",
   "name": "python3"
  },
  "language_info": {
   "codemirror_mode": {
    "name": "ipython",
    "version": 3
   },
   "file_extension": ".py",
   "mimetype": "text/x-python",
   "name": "python",
   "nbconvert_exporter": "python",
   "pygments_lexer": "ipython3",
   "version": "3.10.4"
  },
  "orig_nbformat": 4,
  "vscode": {
   "interpreter": {
    "hash": "35b5a992b9213609476f3b9dedb9c34ba69d78bca4613c4854b5108b11a72ed9"
   }
  }
 },
 "nbformat": 4,
 "nbformat_minor": 2
}
