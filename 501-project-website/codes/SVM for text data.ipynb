{
 "cells": [
  {
   "cell_type": "markdown",
   "metadata": {},
   "source": [
    "## Homework 4 SVM for text data\n",
    "#### Date: Oct22, 2022\n",
    "#### Author: Yilin Yang"
   ]
  },
  {
   "cell_type": "markdown",
   "metadata": {},
   "source": [
    "#### Method Introduction "
   ]
  },
  {
   "cell_type": "markdown",
   "metadata": {},
   "source": [
    "1. Dataset Introduction\n",
    "\n",
    "    This dataset contains text I collected from twitter api. The text mainly talks about the users' reviews about consumers privacy by using media. \n",
    "    Then I use sentiment analysis to determine the users' attitudes (Neutral, Positive, Negaitve) and assign a attitude socres about their texts. \n",
    "    There are 1299 rows and 4 columns in this dataset. \n",
    "\n",
    "        Unnamed: 0 : The number id of each content\n",
    "\n",
    "        text: Each review from twitter users\n",
    "\n",
    "        result: Sentiment classification of each text(Positive, Neutral, Negative)\n",
    "\n",
    "        scores: Attitude scores. How likely the attitude to be Neutral, Postive, Negative\n",
    "\n",
    "2. Methods I plan to use\n",
    "\n",
    "    Support Vector Machine\n",
    "\n",
    "    Support vector machines (SVMs) are a set of supervised learning methods used for classification, regression and outliers detection. The advantages of support vector machines are: Effective in high dimensional spaces. Still effective in cases where number of dimensions is greater than the number of samples.\n",
    "\n",
    "    For this dataset, I want to build a model by using Support Vecotr Machines to predict the sentiment of each text. I plan to calculate the accuracy score and plot the confusion matrix in order to gain a result to determine whether SVM is suitable for this dataset. \n",
    "    \n",
    "3. Steps \n",
    "\n",
    "Import datasets\n",
    "\n",
    "        Drop unnecessary columns from the dataset(From this dataset, I mainly use text and result columns)\n",
    "\n",
    "Basic data exploration\n",
    "\n",
    "    Make some necessary EDA plots to get some first insight of the dataset. \n",
    "\n",
    "    I will use y = \"result\" (output_score) and \"text\" as feature. \n",
    "\n",
    "    Then I will reprocess the column text (Important!)\n",
    "\n",
    "            1. Drop NA\n",
    "            2. Change all letters to lower case\n",
    "            3. Broke the sentence into words\n",
    "            4. Remove stopwords\n",
    "\n",
    "Split Dataset\n",
    "\n",
    "        I will split dataset into 80% training data and 20% test data to get better prediction for SVM\n",
    "\n",
    "Training the model and Testing the results\n",
    "\n",
    "        Use x_train,y_train to build a model of SVM\n",
    "\n",
    "        Evaluate the performance of the SVM model by using the test data. \n",
    "            \n",
    "            Train different kernel in order to get the best performance of model\n",
    "\n",
    "            Generate a confusion matrix plot for SVM model to evaluate the performance\n",
    "    \n",
    "Conclusion\n",
    "\n",
    "        Gather the result of the SVM performance"
   ]
  },
  {
   "cell_type": "markdown",
   "metadata": {},
   "source": [
    "#### Step 1 Import Dataset"
   ]
  },
  {
   "cell_type": "code",
   "execution_count": 33,
   "metadata": {},
   "outputs": [
    {
     "data": {
      "text/html": [
       "<div>\n",
       "<style scoped>\n",
       "    .dataframe tbody tr th:only-of-type {\n",
       "        vertical-align: middle;\n",
       "    }\n",
       "\n",
       "    .dataframe tbody tr th {\n",
       "        vertical-align: top;\n",
       "    }\n",
       "\n",
       "    .dataframe thead th {\n",
       "        text-align: right;\n",
       "    }\n",
       "</style>\n",
       "<table border=\"1\" class=\"dataframe\">\n",
       "  <thead>\n",
       "    <tr style=\"text-align: right;\">\n",
       "      <th></th>\n",
       "      <th>Unnamed: 0</th>\n",
       "      <th>text</th>\n",
       "      <th>result</th>\n",
       "      <th>scores</th>\n",
       "    </tr>\n",
       "  </thead>\n",
       "  <tbody>\n",
       "    <tr>\n",
       "      <th>0</th>\n",
       "      <td>0</td>\n",
       "      <td>RT @LittleBirbMame: @aungaung1124 ตอบให้ตรงคำถ...</td>\n",
       "      <td>Neutral</td>\n",
       "      <td>100.0</td>\n",
       "    </tr>\n",
       "    <tr>\n",
       "      <th>1</th>\n",
       "      <td>1</td>\n",
       "      <td>RT @LittleBirbMame: @yamyummy ประทับใจความดักด...</td>\n",
       "      <td>Neutral</td>\n",
       "      <td>100.0</td>\n",
       "    </tr>\n",
       "    <tr>\n",
       "      <th>2</th>\n",
       "      <td>2</td>\n",
       "      <td>RT @angel_packsss: 🎉PROMOÇÕES QUE ESTÃO ROLAND...</td>\n",
       "      <td>Neutral</td>\n",
       "      <td>100.0</td>\n",
       "    </tr>\n",
       "    <tr>\n",
       "      <th>3</th>\n",
       "      <td>3</td>\n",
       "      <td>RT @wayydaminn: I love my privacy, not everyth...</td>\n",
       "      <td>Positive</td>\n",
       "      <td>44.7</td>\n",
       "    </tr>\n",
       "    <tr>\n",
       "      <th>4</th>\n",
       "      <td>4</td>\n",
       "      <td>RT @sapph7c: Hawaii is an island with even sma...</td>\n",
       "      <td>Negative</td>\n",
       "      <td>11.4</td>\n",
       "    </tr>\n",
       "  </tbody>\n",
       "</table>\n",
       "</div>"
      ],
      "text/plain": [
       "   Unnamed: 0                                               text    result  \\\n",
       "0           0  RT @LittleBirbMame: @aungaung1124 ตอบให้ตรงคำถ...   Neutral   \n",
       "1           1  RT @LittleBirbMame: @yamyummy ประทับใจความดักด...   Neutral   \n",
       "2           2  RT @angel_packsss: 🎉PROMOÇÕES QUE ESTÃO ROLAND...   Neutral   \n",
       "3           3  RT @wayydaminn: I love my privacy, not everyth...  Positive   \n",
       "4           4  RT @sapph7c: Hawaii is an island with even sma...  Negative   \n",
       "\n",
       "   scores  \n",
       "0   100.0  \n",
       "1   100.0  \n",
       "2   100.0  \n",
       "3    44.7  \n",
       "4    11.4  "
      ]
     },
     "execution_count": 33,
     "metadata": {},
     "output_type": "execute_result"
    }
   ],
   "source": [
    "# Read dataset in pd.read_csv and display first several rows.\n",
    "import pandas as pd\n",
    "df = pd.read_csv(\"../data/00-raw-data/pytweetresult.csv\")\n",
    "df.head()"
   ]
  },
  {
   "cell_type": "code",
   "execution_count": 34,
   "metadata": {},
   "outputs": [
    {
     "name": "stdout",
     "output_type": "stream",
     "text": [
      "(1299, 4)\n",
      "Index(['Unnamed: 0', 'text', 'result', 'scores'], dtype='object')\n",
      "<bound method NDFrame.describe of       Unnamed: 0                                               text    result  \\\n",
      "0              0  RT @LittleBirbMame: @aungaung1124 ตอบให้ตรงคำถ...   Neutral   \n",
      "1              1  RT @LittleBirbMame: @yamyummy ประทับใจความดักด...   Neutral   \n",
      "2              2  RT @angel_packsss: 🎉PROMOÇÕES QUE ESTÃO ROLAND...   Neutral   \n",
      "3              3  RT @wayydaminn: I love my privacy, not everyth...  Positive   \n",
      "4              4  RT @sapph7c: Hawaii is an island with even sma...  Negative   \n",
      "...          ...                                                ...       ...   \n",
      "1294        1294  •Link do privacy: https://t.co/6usYIrNIyz 🌸\\n\\...  Positive   \n",
      "1295        1295  RT @LittleBirbMame: @yamyummy ประทับใจความดักด...   Neutral   \n",
      "1296        1296  RT @bblivery: ดาราไทยส่วนใหญ่มันเคยสนใจ privac...   Neutral   \n",
      "1297        1297  RT @goldenstarglow: its actually really concer...  Positive   \n",
      "1298        1298  RT @LittleBirbMame: @yamyummy ประทับใจความดักด...   Neutral   \n",
      "\n",
      "      scores  \n",
      "0      100.0  \n",
      "1      100.0  \n",
      "2      100.0  \n",
      "3       44.7  \n",
      "4       11.4  \n",
      "...      ...  \n",
      "1294    13.7  \n",
      "1295   100.0  \n",
      "1296   100.0  \n",
      "1297    12.9  \n",
      "1298   100.0  \n",
      "\n",
      "[1299 rows x 4 columns]>\n"
     ]
    }
   ],
   "source": [
    "# Print shape and columns of the dataset and describe the dataset\n",
    "print(df.shape)\n",
    "print(df.columns)\n",
    "print(df.describe)"
   ]
  },
  {
   "cell_type": "markdown",
   "metadata": {},
   "source": [
    "#### Step 2: Basic data exploration"
   ]
  },
  {
   "cell_type": "code",
   "execution_count": 35,
   "metadata": {},
   "outputs": [
    {
     "name": "stdout",
     "output_type": "stream",
     "text": [
      "Number of points with result = Negative: 254 0.19553502694380293\n",
      "Number of points with result = Neutral: 725 0.5581216320246344\n",
      "Number of points with result = Neutral: 320 0.24634334103156275\n"
     ]
    }
   ],
   "source": [
    "#Insert code to explore the load balance and count the times infl_score = 0 and infl_score = 1\n",
    "print(\"Number of points with result = Negative:\",sum(df['result']=='Negative'),sum(df['result']=='Negative')/(sum(df['result']=='Negative')+sum(df['result']=='Neutral')+sum(df['result']=='Positive')))\n",
    "print(\"Number of points with result = Neutral:\",sum(df['result']=='Neutral'),sum(df['result']=='Neutral')/(sum(df['result']=='Negative')+sum(df['result']=='Neutral')+sum(df['result']=='Positive')))\n",
    "print(\"Number of points with result = Neutral:\",sum(df['result']=='Positive'),sum(df['result']=='Positive')/(sum(df['result']=='Negative')+sum(df['result']=='Neutral')+sum(df['result']=='Positive')))"
   ]
  },
  {
   "cell_type": "markdown",
   "metadata": {},
   "source": [
    "##### Make Visulization plot of EDA"
   ]
  },
  {
   "cell_type": "code",
   "execution_count": 36,
   "metadata": {},
   "outputs": [
    {
     "data": {
      "text/plain": [
       "<AxesSubplot:>"
      ]
     },
     "execution_count": 36,
     "metadata": {},
     "output_type": "execute_result"
    },
    {
     "data": {
      "image/png": "[encoded data removed]",
      "text/plain": [
       "<Figure size 640x480 with 1 Axes>"
      ]
     },
     "metadata": {},
     "output_type": "display_data"
    }
   ],
   "source": [
    "df['result'].value_counts().plot(kind=\"bar\")\n"
   ]
  },
  {
   "cell_type": "markdown",
   "metadata": {},
   "source": [
    "As we can see in the plot, Neutral is above 50% in the result of this dataset, the second more value is Postive, then is Negative"
   ]
  },
  {
   "cell_type": "code",
   "execution_count": 37,
   "metadata": {},
   "outputs": [],
   "source": [
    "df = df.drop(['Unnamed: 0','scores'],axis=1) #Drop unnecessary columns"
   ]
  },
  {
   "cell_type": "code",
   "execution_count": 38,
   "metadata": {},
   "outputs": [],
   "source": [
    "# Import required packages\n",
    "import numpy as np\n",
    "from nltk.tokenize import word_tokenize\n",
    "from nltk import pos_tag\n",
    "from nltk.corpus import stopwords\n",
    "from nltk.stem import WordNetLemmatizer\n",
    "from sklearn.preprocessing import LabelEncoder\n",
    "from collections import defaultdict\n",
    "from nltk.corpus import wordnet as wn\n",
    "from sklearn.feature_extraction.text import TfidfVectorizer\n",
    "from sklearn import model_selection, naive_bayes, svm\n",
    "from sklearn.metrics import accuracy_score\n",
    "import matplotlib.pyplot as plt\n",
    "import seaborn as sns\n",
    "from sklearn.metrics import confusion_matrix, ConfusionMatrixDisplay\n",
    "from sklearn.metrics import classification_report, confusion_matrix"
   ]
  },
  {
   "cell_type": "code",
   "execution_count": 39,
   "metadata": {},
   "outputs": [],
   "source": [
    "# insert code to remove blank rows if any.\n",
    "df['text'].dropna()\n",
    "# Change all the text to lower case.\n",
    "df['text'] = [entry.lower() for entry in df['text']]\n",
    "# Tokenization In this each entry in the df will be broken into set of words\n",
    "df['text'] = [word_tokenize(entry) for entry in df['text']]\n",
    "# Remove Stop words, Non-Numeric and perfom Word Stemming/Lemmenting.\n",
    "tag_map = defaultdict(lambda : wn.NOUN)\n",
    "tag_map['J'] = wn.ADJ\n",
    "tag_map['V'] = wn.VERB\n",
    "tag_map['R'] = wn.ADV\n",
    "for index,entry in enumerate(df['text']):\n",
    "    # Declaring Empty List to store the words that follow the rules for this step\n",
    "    Final_words = []\n",
    "    # Initializing WordNetLemmatizer()\n",
    "    word_Lemmatized = WordNetLemmatizer()\n",
    "    # pos_tag function below will provide the 'tag' i.e if the word is Noun(N) or Verb(V) or something else.\n",
    "    for word, tag in pos_tag(entry):\n",
    "        # Below condition is to check for Stop words and consider only alphabets\n",
    "        if word not in stopwords.words('english') and word.isalpha():\n",
    "            word_Final = word_Lemmatized.lemmatize(word,tag_map[tag[0]])\n",
    "            Final_words.append(word_Final)\n",
    "    # The final processed set of words for each iteration will be stored in 'text_final'\n",
    "    df.loc[index,'text_final'] = str(Final_words)"
   ]
  },
  {
   "cell_type": "code",
   "execution_count": 40,
   "metadata": {},
   "outputs": [],
   "source": [
    "df = df.drop(['text'],axis=1) # Drop Initial text column"
   ]
  },
  {
   "cell_type": "code",
   "execution_count": 41,
   "metadata": {},
   "outputs": [
    {
     "data": {
      "text/plain": [
       "0        ['rt', 'littlebirbmame', 'unicef', 'privacy']\n",
       "1    ['rt', 'littlebirbmame', 'yamyummy', 'unicef',...\n",
       "2    ['rt', 'que', 'estão', 'pack', 'masturbacão', ...\n",
       "3    ['rt', 'wayydaminn', 'love', 'privacy', 'every...\n",
       "4    ['rt', 'hawaii', 'island', 'even', 'small', 'p...\n",
       "Name: text_final, dtype: object"
      ]
     },
     "execution_count": 41,
     "metadata": {},
     "output_type": "execute_result"
    }
   ],
   "source": [
    "df['text_final'].head() # Show first 5 rows of the edited column"
   ]
  },
  {
   "cell_type": "markdown",
   "metadata": {},
   "source": [
    "#### Step 3 Split dataset"
   ]
  },
  {
   "cell_type": "code",
   "execution_count": 42,
   "metadata": {},
   "outputs": [
    {
     "name": "stdout",
     "output_type": "stream",
     "text": [
      "<class 'pandas.core.series.Series'> (259,)\n",
      "<class 'pandas.core.series.Series'> (259,)\n",
      "<class 'pandas.core.series.Series'> (1040,)\n",
      "<class 'pandas.core.series.Series'> (1040,)\n"
     ]
    }
   ],
   "source": [
    "# Insert code to partition datasets into training and testing datasets and print types and shapes of these datasets\n",
    "from sklearn.model_selection import train_test_split\n",
    "x_train,x_test,y_train,y_test=train_test_split(df['text_final'],df['result'],test_size=0.8)\n",
    "print(type(x_train),x_train.shape)\n",
    "print(type(y_train),y_train.shape)\n",
    "print(type(x_test),x_test.shape)\n",
    "print(type(y_test),y_test.shape)"
   ]
  },
  {
   "cell_type": "code",
   "execution_count": 43,
   "metadata": {},
   "outputs": [],
   "source": [
    "# Insert code to encode the column infl_score with value between 0 and 1 and 2. 0 represents Negative, 1 represents Neutral, 2 represnets Positive\n",
    "Encoder = LabelEncoder()\n",
    "y_train = Encoder.fit_transform(y_train)\n",
    "y_test = Encoder.fit_transform(y_test)"
   ]
  },
  {
   "cell_type": "markdown",
   "metadata": {},
   "source": [
    "Word Vectorization\n",
    "\n",
    "It is a general process of turning a collection of text documents into numerical feature vectors.Their are many methods to convert text data to vectors which the model can understand but by far the most popular method is called TF-IDF. This is an acronym than stands for “Term Frequency — Inverse Document” Frequency which are the components of the resulting scores assigned to each word.\n",
    "\n",
    "Term Frequency: This summarizes how often a given word appears within a document.\n",
    "\n",
    "Inverse Document Frequency: This down scales words that appear a lot across documents.\n",
    "\n",
    "we will transform x_train and x_test to vectorized Train_X_Tfidf and Test_X_Tfidf. These will now contain for each row a list of unique integer number and its associated importance as calculated by TF-IDF."
   ]
  },
  {
   "cell_type": "code",
   "execution_count": 44,
   "metadata": {},
   "outputs": [],
   "source": [
    "\n",
    "Tfidf_vect = TfidfVectorizer(max_features=5000)\n",
    "Tfidf_vect.fit(df['text_final'])\n",
    "Train_X_Tfidf = Tfidf_vect.transform(x_train)\n",
    "Test_X_Tfidf = Tfidf_vect.transform(x_test)"
   ]
  },
  {
   "cell_type": "code",
   "execution_count": 45,
   "metadata": {},
   "outputs": [
    {
     "name": "stdout",
     "output_type": "stream",
     "text": [
      "  (0, 2800)\t0.7008293159666198\n",
      "  (0, 2797)\t0.7008293159666198\n",
      "  (0, 2127)\t0.13295314875368505\n",
      "  (1, 2657)\t0.32268928364301397\n",
      "  (1, 2587)\t0.31866415078138866\n",
      "  (1, 2222)\t0.31489889044836034\n",
      "  (1, 2127)\t0.06888847348025394\n",
      "  (1, 1850)\t0.31489889044836034\n",
      "  (1, 1792)\t0.2195616137892047\n",
      "  (1, 1451)\t0.32268928364301397\n",
      "  (1, 1103)\t0.29124353452949114\n",
      "  (1, 939)\t0.32268928364301397\n",
      "  (1, 511)\t0.2782250527371442\n",
      "  (1, 441)\t0.31489889044836034\n",
      "  (1, 220)\t0.2709228739915652\n",
      "  (2, 2696)\t0.437534439393671\n",
      "  (2, 2653)\t0.44890283929355285\n",
      "  (2, 2225)\t0.4300630663871154\n",
      "  (2, 2127)\t0.13316470341911427\n",
      "  (2, 1948)\t0.16724876437762218\n",
      "  (2, 1483)\t0.437534439393671\n",
      "  (2, 866)\t0.4300630663871154\n",
      "  (3, 2690)\t0.20044985268225687\n",
      "  (3, 2622)\t0.4292039561582983\n",
      "  (3, 2127)\t0.07166750524354445\n",
      "  :\t:\n",
      "  (255, 742)\t0.5946045598358042\n",
      "  (255, 510)\t0.5946045598358042\n",
      "  (256, 2546)\t0.686068795892288\n",
      "  (256, 2127)\t0.21595281538690522\n",
      "  (256, 1948)\t0.27122683871906816\n",
      "  (256, 1462)\t0.6396170657415544\n",
      "  (257, 2737)\t0.6912582795944322\n",
      "  (257, 2127)\t0.13113744356908774\n",
      "  (257, 1948)\t0.1647026189180241\n",
      "  (257, 232)\t0.6912582795944322\n",
      "  (258, 2634)\t0.21979875329772675\n",
      "  (258, 2404)\t0.30566332522425477\n",
      "  (258, 2127)\t0.05658546153332306\n",
      "  (258, 1948)\t0.07106874629833272\n",
      "  (258, 1838)\t0.30566332522425477\n",
      "  (258, 1815)\t0.30566332522425477\n",
      "  (258, 1580)\t0.16456012646798782\n",
      "  (258, 1182)\t0.30566332522425477\n",
      "  (258, 1093)\t0.23358503344650744\n",
      "  (258, 902)\t0.2982761271304987\n",
      "  (258, 678)\t0.30566332522425477\n",
      "  (258, 581)\t0.30566332522425477\n",
      "  (258, 503)\t0.183364357632675\n",
      "  (258, 262)\t0.30566332522425477\n",
      "  (258, 206)\t0.2918770450754741\n"
     ]
    }
   ],
   "source": [
    "print(Train_X_Tfidf)"
   ]
  },
  {
   "cell_type": "markdown",
   "metadata": {},
   "source": [
    "Now the column text is ready to be fed into SVM algortithms."
   ]
  },
  {
   "cell_type": "markdown",
   "metadata": {},
   "source": [
    "#### Step 4 Training and Predicting the model"
   ]
  },
  {
   "cell_type": "code",
   "execution_count": 46,
   "metadata": {},
   "outputs": [],
   "source": [
    "# Classifier - Algorithm - SVM\n",
    "# fit the training dataset on the classifier\n",
    "SVC = svm.SVC()\n",
    "model = SVC.fit(Train_X_Tfidf,y_train)\n",
    "# predict the labels on validation dataset\n",
    "yp_train = model.predict(Train_X_Tfidf)\n",
    "yp_test = model.predict(Test_X_Tfidf)"
   ]
  },
  {
   "cell_type": "code",
   "execution_count": 47,
   "metadata": {},
   "outputs": [
    {
     "name": "stdout",
     "output_type": "stream",
     "text": [
      "confusion matrix of train data:\n",
      "[[ 51   0   0]\n",
      " [  0 149   0]\n",
      " [  0   0  59]]\n",
      " \n",
      "confusion matrix of test data:\n",
      "[[ 66 137   0]\n",
      " [  0 576   0]\n",
      " [  1 142 118]]\n",
      " \n",
      "classification report of train data:\n",
      "              precision    recall  f1-score   support\n",
      "\n",
      "           0       1.00      1.00      1.00        51\n",
      "           1       1.00      1.00      1.00       149\n",
      "           2       1.00      1.00      1.00        59\n",
      "\n",
      "    accuracy                           1.00       259\n",
      "   macro avg       1.00      1.00      1.00       259\n",
      "weighted avg       1.00      1.00      1.00       259\n",
      "\n",
      " \n",
      "classification report of test data:\n",
      "              precision    recall  f1-score   support\n",
      "\n",
      "           0       0.99      0.33      0.49       203\n",
      "           1       0.67      1.00      0.81       576\n",
      "           2       1.00      0.45      0.62       261\n",
      "\n",
      "    accuracy                           0.73      1040\n",
      "   macro avg       0.89      0.59      0.64      1040\n",
      "weighted avg       0.82      0.73      0.70      1040\n",
      "\n"
     ]
    }
   ],
   "source": [
    "print(\"confusion matrix of train data:\")\n",
    "print(confusion_matrix(y_train,yp_train))\n",
    "print(\" \")\n",
    "print(\"confusion matrix of test data:\")\n",
    "print(confusion_matrix(y_test,yp_test))\n",
    "print(\" \")\n",
    "print(\"classification report of train data:\")\n",
    "print(classification_report(y_train,yp_train))\n",
    "print(\" \")\n",
    "print(\"classification report of test data:\")\n",
    "print(classification_report(y_test,yp_test))"
   ]
  },
  {
   "cell_type": "code",
   "execution_count": 48,
   "metadata": {},
   "outputs": [],
   "source": [
    "# Save the results in a data frame. \n",
    "dic_train = classification_report(y_train,yp_train,output_dict=True)\n",
    "dic_test = classification_report(y_test,yp_test,output_dict=True)\n",
    "result_train = pd.DataFrame.from_dict(dic_train)\n",
    "result_train = result_train.transpose()\n",
    "result_test = pd.DataFrame.from_dict(dic_test)\n",
    "result_test = result_test.transpose()"
   ]
  },
  {
   "cell_type": "code",
   "execution_count": 49,
   "metadata": {},
   "outputs": [
    {
     "name": "stdout",
     "output_type": "stream",
     "text": [
      "result dataframe of train dataset:\n",
      "              precision  recall  f1-score  support\n",
      "0                   1.0     1.0       1.0     51.0\n",
      "1                   1.0     1.0       1.0    149.0\n",
      "2                   1.0     1.0       1.0     59.0\n",
      "accuracy            1.0     1.0       1.0      1.0\n",
      "macro avg           1.0     1.0       1.0    259.0\n",
      "weighted avg        1.0     1.0       1.0    259.0\n",
      "\n",
      "result dataframe of test dataset:\n",
      "              precision    recall  f1-score      support\n",
      "0              0.985075  0.325123  0.488889   203.000000\n",
      "1              0.673684  1.000000  0.805031   576.000000\n",
      "2              1.000000  0.452107  0.622691   261.000000\n",
      "accuracy       0.730769  0.730769  0.730769     0.730769\n",
      "macro avg      0.886253  0.592410  0.638871  1040.000000\n",
      "weighted avg   0.816358  0.730769  0.697562  1040.000000\n"
     ]
    }
   ],
   "source": [
    "# display the results data frame\n",
    "print(\"result dataframe of train dataset:\")\n",
    "print(result_train)\n",
    "print(\"\")\n",
    "print(\"result dataframe of test dataset:\")\n",
    "print(result_test)"
   ]
  },
  {
   "cell_type": "code",
   "execution_count": 50,
   "metadata": {},
   "outputs": [
    {
     "data": {
      "text/plain": [
       "<sklearn.metrics._plot.confusion_matrix.ConfusionMatrixDisplay at 0x7facb18e0760>"
      ]
     },
     "execution_count": 50,
     "metadata": {},
     "output_type": "execute_result"
    },
    {
     "data": {
      "image/png": "[encoded data removed]",
      "text/plain": [
       "<Figure size 640x480 with 2 Axes>"
      ]
     },
     "metadata": {},
     "output_type": "display_data"
    }
   ],
   "source": [
    "# Display Confusion Matrix for the test data. Remember to use the ConfusionMatrixDisplay function.\n",
    "ConfusionMatrixDisplay.from_predictions(y_test, yp_test)"
   ]
  },
  {
   "cell_type": "markdown",
   "metadata": {},
   "source": [
    "Comment: As we can see, the precision, recall, f1-score and support of accuracy are all about 73%, which we can conclude SVM is a good model to predict the sentiment analysis of this text dataset. "
   ]
  },
  {
   "cell_type": "markdown",
   "metadata": {},
   "source": [
    "##### Tuning Hyperparameters\n",
    "\n",
    "Kernel: The main function of the kernel is to transform the given dataset input data into the required form. There are various types of functions such as linear, polynomial, and radial basis function (RBF). Polynomial and RBF are useful for non-linear hyperplane. Polynomial and RBF kernels compute the separation line in the higher dimension. In some of the applications, it is suggested to use a more complex kernel to separate the classes that are curved or nonlinear. This transformation can lead to more accurate classifiers\n",
    "\n",
    "In this dataset, I will train different kernels('poly','RBF' and 'Linear') to determine which suports the most accurate classifers."
   ]
  },
  {
   "cell_type": "markdown",
   "metadata": {},
   "source": [
    "##### SVM with Polynomial kernels\n",
    "\n",
    "A polynomial kernel is a more generalized form of the linear kernel. The polynomial kernel can distinguish curved or nonlinear input space.\n",
    "\n",
    "K(x,xi) = 1 + sum(x * xi)^d"
   ]
  },
  {
   "cell_type": "code",
   "execution_count": 51,
   "metadata": {},
   "outputs": [],
   "source": [
    "SVC = svm.SVC(C = 0.5,degree = 2,kernel='poly')\n",
    "model = SVC.fit(Train_X_Tfidf, y_train)\n",
    "yp_train = SVC.predict(Train_X_Tfidf)\n",
    "yp_test = SVC.predict(Test_X_Tfidf)"
   ]
  },
  {
   "cell_type": "code",
   "execution_count": 52,
   "metadata": {},
   "outputs": [
    {
     "name": "stdout",
     "output_type": "stream",
     "text": [
      "confusion matrix of train data:\n",
      "[[ 19  32   0]\n",
      " [  0 149   0]\n",
      " [  0  30  29]]\n",
      " \n",
      "confusion matrix of test data:\n",
      "[[ 50 153   0]\n",
      " [  0 576   0]\n",
      " [  1 179  81]]\n",
      " \n",
      "classification report of train data:\n",
      "              precision    recall  f1-score   support\n",
      "\n",
      "           0       1.00      0.37      0.54        51\n",
      "           1       0.71      1.00      0.83       149\n",
      "           2       1.00      0.49      0.66        59\n",
      "\n",
      "    accuracy                           0.76       259\n",
      "   macro avg       0.90      0.62      0.68       259\n",
      "weighted avg       0.83      0.76      0.73       259\n",
      "\n",
      " \n",
      "classification reportof test data:\n",
      "              precision    recall  f1-score   support\n",
      "\n",
      "           0       0.98      0.25      0.39       203\n",
      "           1       0.63      1.00      0.78       576\n",
      "           2       1.00      0.31      0.47       261\n",
      "\n",
      "    accuracy                           0.68      1040\n",
      "   macro avg       0.87      0.52      0.55      1040\n",
      "weighted avg       0.79      0.68      0.63      1040\n",
      "\n"
     ]
    }
   ],
   "source": [
    "# Calculate the confusion matrix and classification report for the train and test data. \n",
    "print(\"confusion matrix of train data:\")\n",
    "print(confusion_matrix(y_train,yp_train))\n",
    "print(\" \")\n",
    "print(\"confusion matrix of test data:\")\n",
    "print(confusion_matrix(y_test,yp_test))\n",
    "print(\" \")\n",
    "print(\"classification report of train data:\")\n",
    "print(classification_report(y_train,yp_train))\n",
    "print(\" \")\n",
    "print(\"classification reportof test data:\")\n",
    "print(classification_report(y_test,yp_test))"
   ]
  },
  {
   "cell_type": "code",
   "execution_count": 53,
   "metadata": {},
   "outputs": [],
   "source": [
    "# Save the results in a data frame.\n",
    "dic_train = classification_report(y_train,yp_train,output_dict=True)\n",
    "dic_test = classification_report(y_test,yp_test,output_dict=True)\n",
    "result_train = pd.DataFrame.from_dict(dic_train)\n",
    "result_train = result_train.transpose()\n",
    "result_test = pd.DataFrame.from_dict(dic_test)\n",
    "result_test = result_test.transpose()"
   ]
  },
  {
   "cell_type": "code",
   "execution_count": 54,
   "metadata": {},
   "outputs": [
    {
     "name": "stdout",
     "output_type": "stream",
     "text": [
      "result dataframe of train dataset:\n",
      "              precision    recall  f1-score     support\n",
      "0              1.000000  0.372549  0.542857   51.000000\n",
      "1              0.706161  1.000000  0.827778  149.000000\n",
      "2              1.000000  0.491525  0.659091   59.000000\n",
      "accuracy       0.760618  0.760618  0.760618    0.760618\n",
      "macro avg      0.902054  0.621358  0.676575  259.000000\n",
      "weighted avg   0.830958  0.760618  0.733247  259.000000\n",
      "\n",
      "result dataframe of test dataset:\n",
      "              precision    recall  f1-score      support\n",
      "0              0.980392  0.246305  0.393701   203.000000\n",
      "1              0.634361  1.000000  0.776280   576.000000\n",
      "2              1.000000  0.310345  0.473684   261.000000\n",
      "accuracy       0.679808  0.679808  0.679808     0.679808\n",
      "macro avg      0.871584  0.518883  0.547888  1040.000000\n",
      "weighted avg   0.793665  0.679808  0.625664  1040.000000\n"
     ]
    }
   ],
   "source": [
    "# display the results data frame\n",
    "print(\"result dataframe of train dataset:\")\n",
    "print(result_train)\n",
    "print(\"\")\n",
    "print(\"result dataframe of test dataset:\")\n",
    "print(result_test)"
   ]
  },
  {
   "cell_type": "code",
   "execution_count": 55,
   "metadata": {},
   "outputs": [
    {
     "data": {
      "text/plain": [
       "<sklearn.metrics._plot.confusion_matrix.ConfusionMatrixDisplay at 0x7facb18e14e0>"
      ]
     },
     "execution_count": 55,
     "metadata": {},
     "output_type": "execute_result"
    },
    {
     "data": {
      "image/png": "[encoded data removed]",
      "text/plain": [
       "<Figure size 640x480 with 2 Axes>"
      ]
     },
     "metadata": {},
     "output_type": "display_data"
    }
   ],
   "source": [
    "# Display Confusion Matrix for the test data. Remember to use the ConfusionMatrixDisplay function.\n",
    "ConfusionMatrixDisplay.from_predictions(y_test, yp_test)"
   ]
  },
  {
   "cell_type": "markdown",
   "metadata": {},
   "source": [
    "##### SVM with RBF kernels\n",
    "\n",
    "Radial Basis Function Kernel The Radial basis function kernel is a popular kernel function commonly used in support vector machine classification. RBF can map an input space in infinite dimensional space.\n",
    "\n",
    "K(x,xi) = exp(-gamma * sum((x – xi^2))"
   ]
  },
  {
   "cell_type": "code",
   "execution_count": 56,
   "metadata": {},
   "outputs": [],
   "source": [
    "SVC = svm.SVC(C = 0.5,kernel='rbf')\n",
    "model = SVC.fit(Train_X_Tfidf, y_train)\n",
    "yp_train = SVC.predict(Train_X_Tfidf)\n",
    "yp_test = SVC.predict(Test_X_Tfidf)"
   ]
  },
  {
   "cell_type": "code",
   "execution_count": 57,
   "metadata": {},
   "outputs": [
    {
     "name": "stdout",
     "output_type": "stream",
     "text": [
      "result dataframe of train dataset:\n",
      "              precision    recall  f1-score     support\n",
      "0              1.000000  0.372549  0.542857   51.000000\n",
      "1              0.706161  1.000000  0.827778  149.000000\n",
      "2              1.000000  0.491525  0.659091   59.000000\n",
      "accuracy       0.760618  0.760618  0.760618    0.760618\n",
      "macro avg      0.902054  0.621358  0.676575  259.000000\n",
      "weighted avg   0.830958  0.760618  0.733247  259.000000\n",
      "\n",
      "result dataframe of test dataset:\n",
      "              precision    recall  f1-score      support\n",
      "0              0.980392  0.246305  0.393701   203.000000\n",
      "1              0.634361  1.000000  0.776280   576.000000\n",
      "2              1.000000  0.310345  0.473684   261.000000\n",
      "accuracy       0.679808  0.679808  0.679808     0.679808\n",
      "macro avg      0.871584  0.518883  0.547888  1040.000000\n",
      "weighted avg   0.793665  0.679808  0.625664  1040.000000\n"
     ]
    }
   ],
   "source": [
    "# Save the results in a data frame.\n",
    "dic_train = classification_report(y_train,yp_train,output_dict=True)\n",
    "dic_test = classification_report(y_test,yp_test,output_dict=True)\n",
    "result_train = pd.DataFrame.from_dict(dic_train)\n",
    "result_train = result_train.transpose()\n",
    "result_test = pd.DataFrame.from_dict(dic_test)\n",
    "result_test = result_test.transpose()\n",
    "# display the results data frame\n",
    "print(\"result dataframe of train dataset:\")\n",
    "print(result_train)\n",
    "print(\"\")\n",
    "print(\"result dataframe of test dataset:\")\n",
    "print(result_test)"
   ]
  },
  {
   "cell_type": "code",
   "execution_count": 58,
   "metadata": {},
   "outputs": [
    {
     "data": {
      "text/plain": [
       "<sklearn.metrics._plot.confusion_matrix.ConfusionMatrixDisplay at 0x7facb5d072e0>"
      ]
     },
     "execution_count": 58,
     "metadata": {},
     "output_type": "execute_result"
    },
    {
     "data": {
      "image/png": "[encoded data removed]",
      "text/plain": [
       "<Figure size 640x480 with 2 Axes>"
      ]
     },
     "metadata": {},
     "output_type": "display_data"
    }
   ],
   "source": [
    "# Display Confusion Matrix for the test data. Remember to use the ConfusionMatrixDisplay function.\n",
    "ConfusionMatrixDisplay.from_predictions(y_test, yp_test)"
   ]
  },
  {
   "cell_type": "markdown",
   "metadata": {},
   "source": [
    "##### SVM with Linear Kernels\n",
    "\n",
    "A linear kernel can be used as normal dot product any two given observations. The product between two vectors is the sum of the multiplication of each pair of input values.\n",
    "\n",
    "K(x, xi) = sum(x * xi)"
   ]
  },
  {
   "cell_type": "code",
   "execution_count": 59,
   "metadata": {},
   "outputs": [],
   "source": [
    "SVC = svm.SVC(C=1.0, kernel='linear', degree=3, gamma='auto')\n",
    "model = SVC.fit(Train_X_Tfidf, y_train)\n",
    "yp_train = SVC.predict(Train_X_Tfidf)\n",
    "yp_test = SVC.predict(Test_X_Tfidf)\n"
   ]
  },
  {
   "cell_type": "code",
   "execution_count": 60,
   "metadata": {},
   "outputs": [
    {
     "name": "stdout",
     "output_type": "stream",
     "text": [
      "result dataframe of train dataset:\n",
      "              precision    recall  f1-score     support\n",
      "0              1.000000  0.960784  0.980000   51.000000\n",
      "1              0.980263  1.000000  0.990033  149.000000\n",
      "2              1.000000  0.983051  0.991453   59.000000\n",
      "accuracy       0.988417  0.988417  0.988417    0.988417\n",
      "macro avg      0.993421  0.981278  0.987162  259.000000\n",
      "weighted avg   0.988646  0.988417  0.988381  259.000000\n",
      "\n",
      "result dataframe of test dataset:\n",
      "              precision    recall  f1-score      support\n",
      "0              0.968750  0.305419  0.464419   203.000000\n",
      "1              0.714286  0.989583  0.829694   576.000000\n",
      "2              0.865169  0.590038  0.701595   261.000000\n",
      "accuracy       0.755769  0.755769  0.755769     0.755769\n",
      "macro avg      0.849401  0.628347  0.665236  1040.000000\n",
      "weighted avg   0.801821  0.755769  0.726247  1040.000000\n"
     ]
    }
   ],
   "source": [
    "# Save the results in a data frame.\n",
    "dic_train = classification_report(y_train,yp_train,output_dict=True)\n",
    "dic_test = classification_report(y_test,yp_test,output_dict=True)\n",
    "result_train = pd.DataFrame.from_dict(dic_train)\n",
    "result_train = result_train.transpose()\n",
    "result_test = pd.DataFrame.from_dict(dic_test)\n",
    "result_test = result_test.transpose()\n",
    "# display the results data frame\n",
    "print(\"result dataframe of train dataset:\")\n",
    "print(result_train)\n",
    "print(\"\")\n",
    "print(\"result dataframe of test dataset:\")\n",
    "print(result_test)"
   ]
  },
  {
   "cell_type": "code",
   "execution_count": 61,
   "metadata": {},
   "outputs": [
    {
     "data": {
      "text/plain": [
       "<sklearn.metrics._plot.confusion_matrix.ConfusionMatrixDisplay at 0x7facb5da3f10>"
      ]
     },
     "execution_count": 61,
     "metadata": {},
     "output_type": "execute_result"
    },
    {
     "data": {
      "image/png": "[encoded data removed]",
      "text/plain": [
       "<Figure size 640x480 with 2 Axes>"
      ]
     },
     "metadata": {},
     "output_type": "display_data"
    }
   ],
   "source": [
    "# Display Confusion Matrix for the test data. Remember to use the ConfusionMatrixDisplay function.\n",
    "ConfusionMatrixDisplay.from_predictions(y_test, yp_test)"
   ]
  },
  {
   "cell_type": "markdown",
   "metadata": {},
   "source": [
    "Comment: From the comparisons above from these three kernels, the linear permance best with showing the higher accuracy score of test which is almost 78%. The error made becomes smaller. "
   ]
  },
  {
   "cell_type": "markdown",
   "metadata": {},
   "source": [
    "#### Conclusion"
   ]
  },
  {
   "cell_type": "markdown",
   "metadata": {},
   "source": [
    "From the above three kernels training performance, we can conclude that linear kernel is the most suitable kernel from above three kernels(poly, rbf, linear). The accuracy score is almost 78%. By using the the hyperparameter tunning, the accuracy is higher and the model becomes a more accurate classifier. \n",
    "\n",
    "SVM Classifiers offer good accuracy and perform faster prediction compared to Naïve Bayes algorithm. They also use less memory because they use a subset of training points in the decision phase. SVM works well with a clear margin of separation and with high dimensional space. However, SVM is not suitable for large datasets because of its high training time and it also takes more time in training compared to Naïve Bayes. It works poorly with overlapping classes and is also sensitive to the type of kernel used.\n",
    "\n",
    "Overall, I think SVM is a suitable model to predict sentiment analysis of text data about consumer privacy. "
   ]
  }
 ],
 "metadata": {
  "kernelspec": {
   "display_name": "Python 3.10.4 ('ANLY501')",
   "language": "python",
   "name": "python3"
  },
  "language_info": {
   "codemirror_mode": {
    "name": "ipython",
    "version": 3
   },
   "file_extension": ".py",
   "mimetype": "text/x-python",
   "name": "python",
   "nbconvert_exporter": "python",
   "pygments_lexer": "ipython3",
   "version": "3.10.4"
  },
  "orig_nbformat": 4,
  "vscode": {
   "interpreter": {
    "hash": "35b5a992b9213609476f3b9dedb9c34ba69d78bca4613c4854b5108b11a72ed9"
   }
  }
 },
 "nbformat": 4,
 "nbformat_minor": 2
}
